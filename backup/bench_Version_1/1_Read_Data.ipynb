{
 "cells": [
  {
   "cell_type": "code",
   "execution_count": 1,
   "metadata": {},
   "outputs": [],
   "source": [
    "# Inherited: \n",
    "## Open AI modules: openai, openAI_Model, get_embeddings, embedding_Model\n",
    "## Data analysis: Pandas, Numpy \n",
    "%run \"C:\\Users\\Asus\\Desktop\\Coding\\API_Flask\\side_BenckMark\\embedding_Workspace\\bench\\0_Configuration.ipynb\""
   ]
  },
  {
   "cell_type": "code",
   "execution_count": 2,
   "metadata": {},
   "outputs": [
    {
     "data": {
      "text/html": [
       "<div>\n",
       "<style scoped>\n",
       "    .dataframe tbody tr th:only-of-type {\n",
       "        vertical-align: middle;\n",
       "    }\n",
       "\n",
       "    .dataframe tbody tr th {\n",
       "        vertical-align: top;\n",
       "    }\n",
       "\n",
       "    .dataframe thead th {\n",
       "        text-align: right;\n",
       "    }\n",
       "</style>\n",
       "<table border=\"1\" class=\"dataframe\">\n",
       "  <thead>\n",
       "    <tr style=\"text-align: right;\">\n",
       "      <th></th>\n",
       "      <th>Review</th>\n",
       "      <th>Score</th>\n",
       "      <th>Sentiment</th>\n",
       "      <th>review_Embedding</th>\n",
       "      <th>semantic_Label</th>\n",
       "      <th>label_Embedding</th>\n",
       "    </tr>\n",
       "  </thead>\n",
       "  <tbody>\n",
       "    <tr>\n",
       "      <th>0</th>\n",
       "      <td>The headphones stopped working after just a we...</td>\n",
       "      <td>1</td>\n",
       "      <td>A</td>\n",
       "      <td>[-1.15449363e-02 -4.37566050e-05  1.68982483e-...</td>\n",
       "      <td>Poor</td>\n",
       "      <td>[-0.00401071 -0.02407107  0.01570383 ... -0.01...</td>\n",
       "    </tr>\n",
       "    <tr>\n",
       "      <th>1</th>\n",
       "      <td>They frequently disconnect from Bluetooth, whi...</td>\n",
       "      <td>2</td>\n",
       "      <td>B</td>\n",
       "      <td>[-0.00973637 -0.01023299 -0.01020032 ... -0.01...</td>\n",
       "      <td>Below Average</td>\n",
       "      <td>[-0.03240026  0.01438678  0.01182009 ... -0.00...</td>\n",
       "    </tr>\n",
       "    <tr>\n",
       "      <th>2</th>\n",
       "      <td>Sound is clear, but the noise cancellation fea...</td>\n",
       "      <td>3</td>\n",
       "      <td>C</td>\n",
       "      <td>[ 0.01117285  0.01469288 -0.00676629 ... -0.01...</td>\n",
       "      <td>Average</td>\n",
       "      <td>[-0.00774392  0.00759434  0.02070937 ... -0.01...</td>\n",
       "    </tr>\n",
       "    <tr>\n",
       "      <th>3</th>\n",
       "      <td>The battery life is commendable, lasting almos...</td>\n",
       "      <td>4</td>\n",
       "      <td>D</td>\n",
       "      <td>[ 0.00909986  0.01426501 -0.00614553 ...  0.00...</td>\n",
       "      <td>Good</td>\n",
       "      <td>[-0.00276684 -0.01814685  0.01170387 ... -0.01...</td>\n",
       "    </tr>\n",
       "    <tr>\n",
       "      <th>4</th>\n",
       "      <td>The audio experience is phenomenal, with crisp...</td>\n",
       "      <td>5</td>\n",
       "      <td>E</td>\n",
       "      <td>[ 0.00383096  0.00739661 -0.01470262 ... -0.02...</td>\n",
       "      <td>Excellent</td>\n",
       "      <td>[-0.00640184 -0.00947746 -0.00045687 ... -0.02...</td>\n",
       "    </tr>\n",
       "  </tbody>\n",
       "</table>\n",
       "</div>"
      ],
      "text/plain": [
       "                                              Review  Score Sentiment  \\\n",
       "0  The headphones stopped working after just a we...      1         A   \n",
       "1  They frequently disconnect from Bluetooth, whi...      2         B   \n",
       "2  Sound is clear, but the noise cancellation fea...      3         C   \n",
       "3  The battery life is commendable, lasting almos...      4         D   \n",
       "4  The audio experience is phenomenal, with crisp...      5         E   \n",
       "\n",
       "                                    review_Embedding semantic_Label  \\\n",
       "0  [-1.15449363e-02 -4.37566050e-05  1.68982483e-...           Poor   \n",
       "1  [-0.00973637 -0.01023299 -0.01020032 ... -0.01...  Below Average   \n",
       "2  [ 0.01117285  0.01469288 -0.00676629 ... -0.01...        Average   \n",
       "3  [ 0.00909986  0.01426501 -0.00614553 ...  0.00...           Good   \n",
       "4  [ 0.00383096  0.00739661 -0.01470262 ... -0.02...      Excellent   \n",
       "\n",
       "                                     label_Embedding  \n",
       "0  [-0.00401071 -0.02407107  0.01570383 ... -0.01...  \n",
       "1  [-0.03240026  0.01438678  0.01182009 ... -0.00...  \n",
       "2  [-0.00774392  0.00759434  0.02070937 ... -0.01...  \n",
       "3  [-0.00276684 -0.01814685  0.01170387 ... -0.01...  \n",
       "4  [-0.00640184 -0.00947746 -0.00045687 ... -0.02...  "
      ]
     },
     "execution_count": 2,
     "metadata": {},
     "output_type": "execute_result"
    }
   ],
   "source": [
    "data = pd.read_csv(\"C:/Users/Asus/Desktop/Coding/API_Flask/side_BenckMark/embedding_Workspace/database/output/artifical_Data_2.csv\")\n",
    "#data = pd.read_csv(\"C:/Users/Asus/Desktop/Coding/API_Flask/side_BenckMark/embedding_Workspace/database/imported/fine_food_reviews_with_embeddings_1k.csv\")\n",
    "data.head() "
   ]
  }
 ],
 "metadata": {
  "kernelspec": {
   "display_name": "venv",
   "language": "python",
   "name": "python3"
  },
  "language_info": {
   "codemirror_mode": {
    "name": "ipython",
    "version": 3
   },
   "file_extension": ".py",
   "mimetype": "text/x-python",
   "name": "python",
   "nbconvert_exporter": "python",
   "pygments_lexer": "ipython3",
   "version": "3.11.0"
  },
  "orig_nbformat": 4
 },
 "nbformat": 4,
 "nbformat_minor": 2
}
