{
 "cells": [
  {
   "cell_type": "markdown",
   "metadata": {},
   "source": [
    "#### `Basic Configurations` "
   ]
  },
  {
   "cell_type": "code",
   "execution_count": 1,
   "metadata": {},
   "outputs": [],
   "source": [
    "import openai                                                                         # Get OpenAI Module   \n",
    "openAI_Model = \"gpt-3.5-turbo\"                                                        # Select Open AI Model\n",
    "%run \"C:\\Users\\Asus\\Desktop\\Coding\\API_Flask\\side_BenckMark\\safeZone\\safeZone.ipynb\"  # Get The API Key \n",
    "openai.api_key = OPENAI_API_KEY                                                       # Implement API Key to current OpenAI Session \n",
    "from openai.embeddings_utils import get_embeddings                                    # Get the Embedding Module \n",
    "embedding_Model = 'text-embedding-ada-002'                                            # Get the Embedding Model \n",
    "\n",
    "import pandas as pd                                                                   # Get Data Analysis Tools \n",
    "import numpy as np                                                                    # Get Data Analysis Tools "
   ]
  }
 ],
 "metadata": {
  "kernelspec": {
   "display_name": "venv",
   "language": "python",
   "name": "python3"
  },
  "language_info": {
   "codemirror_mode": {
    "name": "ipython",
    "version": 3
   },
   "file_extension": ".py",
   "mimetype": "text/x-python",
   "name": "python",
   "nbconvert_exporter": "python",
   "pygments_lexer": "ipython3",
   "version": "3.11.0"
  },
  "orig_nbformat": 4
 },
 "nbformat": 4,
 "nbformat_minor": 2
}
