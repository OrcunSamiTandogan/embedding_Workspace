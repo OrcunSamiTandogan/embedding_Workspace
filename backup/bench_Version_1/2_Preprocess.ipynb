{
 "cells": [
  {
   "cell_type": "code",
   "execution_count": 1,
   "metadata": {},
   "outputs": [],
   "source": [
    "# Inherited: `data` \n",
    "%run \"C:\\Users\\Asus\\Desktop\\Coding\\API_Flask\\side_BenckMark\\embedding_Workspace\\bench\\1_Read_Data.ipynb\""
   ]
  },
  {
   "cell_type": "code",
   "execution_count": 3,
   "metadata": {},
   "outputs": [],
   "source": [
    "from ast import literal_eval  "
   ]
  },
  {
   "cell_type": "markdown",
   "metadata": {},
   "source": [
    "##### `Review Embeddings` \n",
    "* Output: \"`List`\" of arrays  "
   ]
  },
  {
   "cell_type": "code",
   "execution_count": 4,
   "metadata": {},
   "outputs": [],
   "source": [
    "# Review Embeddings \n",
    "data[\"review_Embedding\"] = data.review_Embedding.apply(literal_eval).apply(np.array) # convert string to array of float  \n",
    "review_Embeddings = data[\"review_Embedding\"].to_list() "
   ]
  },
  {
   "cell_type": "markdown",
   "metadata": {},
   "source": [
    "##### `Label Embeddings` \n",
    "* Output: \"`dictionary`\" "
   ]
  },
  {
   "cell_type": "code",
   "execution_count": null,
   "metadata": {},
   "outputs": [],
   "source": [
    "current_Labels = data['semantic_Label'] .unique()  \n",
    "current_Labels"
   ]
  },
  {
   "cell_type": "code",
   "execution_count": 5,
   "metadata": {},
   "outputs": [],
   "source": [
    "# Label Embeddings \n",
    "data[\"label_Embedding\"] = data.label_Embedding.apply(literal_eval).apply(np.array) # convert string to array of float  \n",
    "label_Embeddings  = data[\"label_Embedding\"].to_list()  \n",
    "\n",
    "# Label Embedding Dictionary \n",
    "label_Dict = {} \n",
    "for i,j in zip(pd.unique(data['semantic_Label']),data['label_Embedding'][:len(pd.unique(data['semantic_Label']))]):\n",
    "    label_Dict[i] = j     "
   ]
  },
  {
   "cell_type": "markdown",
   "metadata": {},
   "source": [
    "##### `Checkpoint`"
   ]
  },
  {
   "cell_type": "code",
   "execution_count": 6,
   "metadata": {},
   "outputs": [],
   "source": [
    "import dill\n",
    "\n",
    "# Save the entire session\n",
    "dill.dump_session('embedded_Data.pkl')  \n",
    "# Actialize the session\n",
    "#dill.load_session('session.pkl') "
   ]
  }
 ],
 "metadata": {
  "kernelspec": {
   "display_name": "venv",
   "language": "python",
   "name": "python3"
  },
  "language_info": {
   "codemirror_mode": {
    "name": "ipython",
    "version": 3
   },
   "file_extension": ".py",
   "mimetype": "text/x-python",
   "name": "python",
   "nbconvert_exporter": "python",
   "pygments_lexer": "ipython3",
   "version": "3.11.0"
  },
  "orig_nbformat": 4
 },
 "nbformat": 4,
 "nbformat_minor": 2
}
