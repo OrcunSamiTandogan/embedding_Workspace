{
 "cells": [
  {
   "cell_type": "markdown",
   "metadata": {},
   "source": [
    "`Outline`\n",
    "* Aritifical data is created\n",
    "* Embedding values are created\n",
    "* Preprocessing is done\n",
    "* Dimension Reduction are applied\n",
    "* Plottings have been made\n",
    "* Machine Learning Methods are implemented"
   ]
  },
  {
   "cell_type": "markdown",
   "metadata": {},
   "source": [
    "#### `Basic Configurations` "
   ]
  },
  {
   "cell_type": "code",
   "execution_count": null,
   "metadata": {},
   "outputs": [],
   "source": [
    "import openai                                                                         # Get OpenAI Module   \n",
    "openAI_Model = \"gpt-3.5-turbo\"                                                        # Select Open AI Model\n",
    "%run \"C:\\Users\\Asus\\Desktop\\Coding\\API_Flask\\side_BenckMark\\safeZone\\safeZone.ipynb\"  # Get The API Key \n",
    "openai.api_key = OPENAI_API_KEY                                                       # Implement API Key to current OpenAI Session \n",
    "from openai.embeddings_utils import get_embeddings                                    # Get the Embedding Module \n",
    "embedding_Model = 'text-embedding-ada-002'                                            # Get the Embedding Model \n",
    "\n",
    "import pandas as pd                                                                   # Get Data Analysis Tools \n",
    "import numpy as np                                                                    # Get Data Analysis Tools "
   ]
  },
  {
   "cell_type": "markdown",
   "metadata": {},
   "source": [
    "---\n",
    "#### `Artifical Data`\n",
    "* Data: There are 5 scores and 5 different types of reviews for a headphone. \n",
    "* There are 6 family in the data. "
   ]
  },
  {
   "cell_type": "code",
   "execution_count": 4,
   "metadata": {},
   "outputs": [],
   "source": [
    "family_1 = [\n",
    "\"The headphones stopped working after just a week of light use.\",\n",
    "\"Sound quality is terrible, and there's a constant buzzing in the left ear.\",\n",
    "\"The ear cushions are uncomfortable and caused pain after only 30 minutes.\",\n",
    "\"The build quality is cheap, and the plastic parts broke easily.\",\n",
    "\"Connectivity issues are frequent, making them almost unusable with my devices\"\n",
    "]\n",
    "family_2 = [\n",
    "\"The sound is okay, but there's noticeable distortion at higher volumes.\",\n",
    "\"They work, but the battery life is nowhere near what was advertised.\",\n",
    "\"The design looks good, but they feel tight and uncomfortable on my head.\",\n",
    "\"I expected better noise cancellation at this price point.\",\n",
    "\"They frequently disconnect from Bluetooth, which is quite frustrating.\"\n",
    "] \n",
    "family_3 = [ \n",
    "\"The headphones are decent for the price but lack in bass quality.\",\n",
    "\"They're comfortable for short periods, but not ideal for extended listening sessions.\",\n",
    "\"Sound is clear, but the noise cancellation feature is just average.\",\n",
    "\"Battery life is good, but I've used other headphones that last longer.\",\n",
    "\"They're alright for everyday use, but I wouldn't recommend them for audiophiles.\"\n",
    "] \n",
    "family_4 = [ \n",
    "\"The sound quality is impressive, especially in the mids and highs.\",\n",
    "\"They fit comfortably, though they can get a bit warm after a few hours.\",\n",
    "\"The battery life is commendable, lasting almost the entire day on a single charge.\",\n",
    "\"The build is sturdy and feels premium, with only minor design flaws.\",\n",
    "\"Connectivity is smooth, with only occasional hiccups in Bluetooth pairing.\",\n",
    "]\n",
    "\n",
    "family_5 = [ \n",
    "\"The audio experience is phenomenal, with crisp highs and deep bass.\",\n",
    "\"By far the most comfortable headphones I've ever worn for long durations.\",\n",
    "\"Battery life exceeds expectations, and the fast charging feature is a lifesaver.\",\n",
    "\"The noise cancellation is top-notch, making them perfect for travel and busy environments.\",\n",
    "\"Every detail, from design to performance, feels premium and worth every penny.\"\n",
    "] \n",
    "\n",
    "family_12345 = family_1 + family_2 + family_3 + family_4 + family_5 \n"
   ]
  },
  {
   "cell_type": "code",
   "execution_count": 5,
   "metadata": {},
   "outputs": [
    {
     "data": {
      "text/html": [
       "<div>\n",
       "<style scoped>\n",
       "    .dataframe tbody tr th:only-of-type {\n",
       "        vertical-align: middle;\n",
       "    }\n",
       "\n",
       "    .dataframe tbody tr th {\n",
       "        vertical-align: top;\n",
       "    }\n",
       "\n",
       "    .dataframe thead th {\n",
       "        text-align: right;\n",
       "    }\n",
       "</style>\n",
       "<table border=\"1\" class=\"dataframe\">\n",
       "  <thead>\n",
       "    <tr style=\"text-align: right;\">\n",
       "      <th></th>\n",
       "      <th>Review</th>\n",
       "      <th>Score</th>\n",
       "      <th>Sentiment</th>\n",
       "    </tr>\n",
       "  </thead>\n",
       "  <tbody>\n",
       "    <tr>\n",
       "      <th>0</th>\n",
       "      <td>The ear cushions are uncomfortable and caused ...</td>\n",
       "      <td>1</td>\n",
       "      <td>family_1</td>\n",
       "    </tr>\n",
       "    <tr>\n",
       "      <th>1</th>\n",
       "      <td>I expected better noise cancellation at this p...</td>\n",
       "      <td>2</td>\n",
       "      <td>family_2</td>\n",
       "    </tr>\n",
       "    <tr>\n",
       "      <th>2</th>\n",
       "      <td>They're comfortable for short periods, but not...</td>\n",
       "      <td>3</td>\n",
       "      <td>family_3</td>\n",
       "    </tr>\n",
       "  </tbody>\n",
       "</table>\n",
       "</div>"
      ],
      "text/plain": [
       "                                              Review  Score Sentiment\n",
       "0  The ear cushions are uncomfortable and caused ...      1  family_1\n",
       "1  I expected better noise cancellation at this p...      2  family_2\n",
       "2  They're comfortable for short periods, but not...      3  family_3"
      ]
     },
     "execution_count": 5,
     "metadata": {},
     "output_type": "execute_result"
    }
   ],
   "source": [
    "review_Column = []\n",
    "score_Column  = [] \n",
    "sentiment_Column = [] \n",
    "n = 100 \n",
    "for i in range(n): \n",
    "    temp_1 = \"\"\n",
    "    temp_2 = \"\" \n",
    "    temp_3 = \"\" \n",
    "    temp_4 = \"\"\n",
    "    temp_5 = \"\"\n",
    "    temp_12345 = \"\"  \n",
    "\n",
    "    temp_1 += np.random.choice(family_1) \n",
    "    temp_1 += np.random.choice(family_1) \n",
    "    temp_1 += np.random.choice(family_1) \n",
    "    review_Column.append(temp_1) \n",
    "    score_Column.append(1) # score_Column.append(np.random.randint(1, 10)) \n",
    "    sentiment_Column.append('family_1') \n",
    "\n",
    "    temp_2 += np.random.choice(family_2)\n",
    "    temp_2 += np.random.choice(family_2)\n",
    "    temp_2 += np.random.choice(family_2)\n",
    "    review_Column.append(temp_2) \n",
    "    score_Column.append(2) # score_Column.append(np.random.randint(10, 20)) \n",
    "    sentiment_Column.append('family_2') \n",
    "\n",
    "    temp_3 += np.random.choice(family_3)\n",
    "    temp_3 += np.random.choice(family_3)\n",
    "    temp_3 += np.random.choice(family_3) \n",
    "    review_Column.append(temp_3) \n",
    "    score_Column.append(3) # score_Column.append(np.random.randint(10, 30)) \n",
    "    sentiment_Column.append('family_3') \n",
    "\n",
    "    temp_4 += np.random.choice(family_4)\n",
    "    temp_4 += np.random.choice(family_4)\n",
    "    temp_4 += np.random.choice(family_4)\n",
    "    review_Column.append(temp_4)\n",
    "    score_Column.append(4) # score_Column.append(np.random.randint(30, 40))\n",
    "    sentiment_Column.append('family_4')\n",
    "\n",
    "    temp_5 += np.random.choice(family_5)\n",
    "    temp_5 += np.random.choice(family_5)\n",
    "    temp_5 += np.random.choice(family_5)\n",
    "    review_Column.append(temp_5)\n",
    "    score_Column.append(5) # score_Column.append(np.random.randint(30, 50))\n",
    "    sentiment_Column.append('family_5')\n",
    "\n",
    "    temp_12345 += np.random.choice(family_12345)\n",
    "    temp_12345 += np.random.choice(family_12345)\n",
    "    temp_12345 += np.random.choice(family_12345)\n",
    "    review_Column.append(temp_12345)\n",
    "    score_Column.append(np.random.randint(1, 5))\n",
    "    sentiment_Column.append('family_12345')\n",
    "\n",
    "\n",
    "# Create dataframe from the information\n",
    "sample_1 = pd.DataFrame({'Review': review_Column, 'Score': score_Column, 'Sentiment': sentiment_Column}) \n",
    "sample_1.head(3)"
   ]
  },
  {
   "cell_type": "markdown",
   "metadata": {},
   "source": [
    "#### `Embedding`"
   ]
  },
  {
   "cell_type": "code",
   "execution_count": 11,
   "metadata": {},
   "outputs": [],
   "source": [
    "target_Column = sample_1['Review'].to_list() \n",
    "matrix_Raw = get_embeddings(target_Column, engine = embedding_Model)  \n",
    "sample_1['embedding'] = matrix_Raw \n",
    "matrix_Plot = np.array(matrix_Raw)"
   ]
  },
  {
   "cell_type": "markdown",
   "metadata": {},
   "source": [
    "---\n",
    "#### `Preprocessing: Outliers`\n",
    "* zscore\n",
    "* IsolationForest\n",
    "* LocalOutlierFactor\n",
    "* DBSCAN "
   ]
  },
  {
   "cell_type": "code",
   "execution_count": 12,
   "metadata": {},
   "outputs": [
    {
     "name": "stdout",
     "output_type": "stream",
     "text": [
      "                 Method  Number of Outliers\n",
      "0               Z-Score                 600\n",
      "1      Isolation Forest                  60\n",
      "2  Local Outlier Factor                  60\n"
     ]
    }
   ],
   "source": [
    "from scipy.stats import zscore\n",
    "from sklearn.ensemble import IsolationForest\n",
    "from sklearn.neighbors import LocalOutlierFactor\n",
    "\n",
    "# Assuming you have your embeddings in a matrix called matrix_Plot\n",
    "matrix = matrix_Plot.copy() \n",
    "matrix_df = pd.DataFrame(matrix)\n",
    "\n",
    "z_scores = np.abs(zscore(matrix_Plot))\n",
    "threshold = 4\n",
    "outliers = (z_scores > threshold).any(axis=1)\n",
    "# Deletion \n",
    "sample_1_cleaned_1 = sample_1[~sample_1.index.isin(outliers)] \n",
    "matrix_cleaned_1 = matrix_df[~matrix_df.index.isin(outliers)]\n",
    "matrix_cleaned_1 = np.array(matrix_cleaned_1) \n",
    "\n",
    "# 2. Isolation Forest\n",
    "iso_forest = IsolationForest(contamination=0.1)\n",
    "iso_preds = iso_forest.fit_predict(matrix)\n",
    "iso_outliers = np.where(iso_preds == -1)[0]\n",
    "# Deletion \n",
    "sample_1_cleaned_2 = sample_1[~sample_1.index.isin(iso_outliers)] \n",
    "matrix_cleaned_2 = matrix_df[~matrix_df.index.isin(iso_outliers)]\n",
    "matrix_cleaned_2 = np.array(matrix_cleaned_2) \n",
    "\n",
    "# 3. Local Outlier Factor\n",
    "lof = LocalOutlierFactor(n_neighbors=100, contamination=0.1)\n",
    "lof_preds = lof.fit_predict(matrix)\n",
    "lof_outliers = np.where(lof_preds == -1)[0]\n",
    "# Deletion \n",
    "sample_1_cleaned_3 = sample_1[~sample_1.index.isin(lof_outliers)] \n",
    "matrix_cleaned_3 = matrix_df[~matrix_df.index.isin(lof_outliers)]\n",
    "matrix_cleaned_3 = np.array(matrix_cleaned_3) \n",
    "\n",
    "\n",
    "# Create a comparison table\n",
    "data = {\n",
    "    'Method': [ \"Z-Score\", 'Isolation Forest', 'Local Outlier Factor'],\n",
    "    'Number of Outliers': [len(outliers), len(iso_outliers), len(lof_outliers)]\n",
    "}\n",
    "comparison_df = pd.DataFrame(data)\n",
    "\n",
    "print(comparison_df)\n"
   ]
  },
  {
   "cell_type": "code",
   "execution_count": 13,
   "metadata": {},
   "outputs": [
    {
     "name": "stdout",
     "output_type": "stream",
     "text": [
      "Estimated number of clusters: 13\n",
      "Estimated number of noise points (outliers): 99\n"
     ]
    }
   ],
   "source": [
    "from sklearn.cluster import DBSCAN\n",
    "\n",
    "threshold_DBSCAN = 0.25 \n",
    "\n",
    "# Assuming matrix_Plot is your data matrix\n",
    "matrix = matrix_Plot\n",
    "\n",
    "# Apply DBSCAN\n",
    "db = DBSCAN(eps=threshold_DBSCAN, min_samples=5).fit(matrix)  # You might need to adjust eps and min_samples based on your data\n",
    "labels = db.labels_\n",
    "\n",
    "# Number of clusters in labels, ignoring noise (outlier) if present\n",
    "n_clusters_ = len(set(labels)) - (1 if -1 in labels else 0)\n",
    "n_noise_ = list(labels).count(-1)\n",
    "\n",
    "print(f\"Estimated number of clusters: {n_clusters_}\")\n",
    "print(f\"Estimated number of noise points (outliers): {n_noise_}\")\n",
    "\n",
    "# To get the indices of outliers\n",
    "outlier_indices = [i for i, label in enumerate(labels) if label == -1]\n",
    "\n",
    "\n",
    "sample_1_cleaned_4 = sample_1[~sample_1.index.isin(outlier_indices)] \n",
    "matrix_cleaned_4 = matrix_df[~matrix_df.index.isin(outlier_indices)]\n",
    "matrix_cleaned_4 = np.array(matrix_cleaned_4) "
   ]
  },
  {
   "cell_type": "markdown",
   "metadata": {},
   "source": [
    "---\n",
    "#### `Sample Decision` | DEV TO DO"
   ]
  },
  {
   "cell_type": "code",
   "execution_count": 23,
   "metadata": {},
   "outputs": [
    {
     "name": "stdout",
     "output_type": "stream",
     "text": [
      "(540, 1536) (540, 4)\n"
     ]
    }
   ],
   "source": [
    "current_Matrix = matrix_cleaned_3 \n",
    "current_Sample = sample_1_cleaned_3 \n",
    "print(current_Matrix.shape, current_Sample.shape) "
   ]
  },
  {
   "cell_type": "markdown",
   "metadata": {},
   "source": [
    "---\n",
    "#### `Dimension Reduction`\n",
    "* T-SNE \n",
    "* PCA "
   ]
  },
  {
   "cell_type": "markdown",
   "metadata": {},
   "source": [
    "##### `Setup`"
   ]
  },
  {
   "cell_type": "code",
   "execution_count": 24,
   "metadata": {},
   "outputs": [],
   "source": [
    "from sklearn.manifold import TSNE\n",
    "from sklearn.decomposition import PCA  \n",
    "\n",
    "def reduct_Dimensions(): \n",
    "    global current_Matrix, current_Coordinates_Tsne, current_Coordinates_PCA \n",
    "    tsne = TSNE(n_components=3, perplexity=15, random_state=42, init='random', learning_rate=200)\n",
    "    current_Coordinates_Tsne = tsne.fit_transform(current_Matrix) \n",
    "\n",
    "    pca = PCA(n_components=3, random_state=42) \n",
    "    current_Coordinates_PCA  = pca.fit_transform(current_Matrix) "
   ]
  },
  {
   "cell_type": "markdown",
   "metadata": {},
   "source": [
    "##### `Process`"
   ]
  },
  {
   "cell_type": "code",
   "execution_count": 25,
   "metadata": {},
   "outputs": [],
   "source": [
    "# Dimension Reduction Outputs: current_Coordinates_Tsne, current_Coordinates_PCA \n",
    "reduct_Dimensions() "
   ]
  },
  {
   "cell_type": "markdown",
   "metadata": {},
   "source": [
    "#### `Plotting`"
   ]
  },
  {
   "cell_type": "markdown",
   "metadata": {},
   "source": [
    "##### `Setup`"
   ]
  },
  {
   "cell_type": "code",
   "execution_count": 26,
   "metadata": {},
   "outputs": [],
   "source": [
    "import plotly.express as px\n",
    "\n",
    "def plot_tsne( color_Value, dim_Reduction = 'T-SNE'):\n",
    "    global current_Coordinates_Tsne, current_Coordinates_PCA \n",
    "    global current_Matrix, current_Sample \n",
    "    if dim_Reduction == \"T-SNE\":\n",
    "        # Create a t-SNE model and transform the data\n",
    "        current_Coordinates = current_Coordinates_Tsne\n",
    "    elif dim_Reduction == \"PCA\":\n",
    "        # Create a PCA model and transform the data\n",
    "        current_Coordinates = current_Coordinates_PCA \n",
    "\n",
    "    title=f\"{dim_Reduction} for Matrix 1\" \n",
    "    # Plot the t-SNE visualization\n",
    "    fig = px.scatter_3d(current_Coordinates, x=0, y=1, z=2, color=color_Value, labels={'color':f'{color_Value.name}'})\n",
    "    fig.update_traces(marker=dict(size=4))\n",
    "    fig.update_layout(title=title)\n",
    "    fig.show()\n"
   ]
  },
  {
   "cell_type": "markdown",
   "metadata": {},
   "source": [
    "##### `Results`"
   ]
  },
  {
   "cell_type": "code",
   "execution_count": 27,
   "metadata": {},
   "outputs": [
    {
     "data": {
      "application/vnd.plotly.v1+json": {
       "config": {
        "plotlyServerURL": "https://plot.ly"
       },
       "data": [
        {
         "hovertemplate": "Sentiment=family_1<br>0=%{x}<br>1=%{y}<br>2=%{z}<extra></extra>",
         "legendgroup": "family_1",
         "marker": {
          "color": "#636efa",
          "size": 4,
          "symbol": "circle"
         },
         "mode": "markers",
         "name": "family_1",
         "scene": "scene",
         "showlegend": true,
         "type": "scatter3d",
         "x": [
          -28.872772216796875,
          -31.37507438659668,
          -28.11814308166504,
          -3.574556589126587,
          -6.49386739730835,
          -38.32951354980469,
          -8.358687400817871,
          -19.33282470703125,
          -32.45576858520508,
          -20.258590698242188,
          -20.38866424560547,
          -32.62643051147461,
          -26.04546356201172,
          -33.550235748291016,
          -26.40447425842285,
          -10.195038795471191,
          -22.435903549194336,
          -27.170047760009766,
          -44.538719177246094,
          -50.90951156616211,
          -0.49903208017349243,
          27.594911575317383,
          -49.420494079589844,
          0.1662682145833969,
          -17.534183502197266,
          -36.552791595458984,
          -3.8252644538879395,
          -47.50082015991211,
          -41.12709045410156,
          -30.120342254638672,
          -37.86922836303711,
          -12.297508239746094,
          -42.283565521240234,
          -38.26732635498047,
          -51.98305130004883,
          -45.72830581665039,
          -16.418004989624023,
          2.601815700531006,
          -43.42958068847656,
          -45.74510955810547,
          -50.10395431518555,
          -88.41830444335938,
          -28.011302947998047,
          -1.5098223686218262,
          -5.420276165008545,
          10.46495532989502,
          -33.26542663574219,
          48.64808654785156,
          -27.224565505981445,
          -3.262484312057495,
          -55.84467697143555,
          -44.1784782409668,
          -32.62092971801758,
          -37.44485855102539,
          -22.99082374572754,
          -10.57369327545166,
          -44.24453353881836,
          -0.41050130128860474,
          -46.65679168701172,
          -7.449204444885254,
          -29.419763565063477,
          -39.10963821411133,
          -47.93672561645508,
          -26.16755485534668,
          -39.074180603027344,
          -18.867963790893555,
          -31.309415817260742,
          -39.648094177246094,
          -24.87567901611328,
          -3.855722427368164,
          1.4329724311828613,
          -17.232051849365234,
          -5.631712436676025,
          -52.8781852722168,
          -42.6396598815918,
          -20.19209098815918,
          -27.462017059326172,
          -51.50621032714844,
          -7.600011825561523,
          64.80364227294922,
          -45.50545120239258,
          -37.36581039428711,
          -20.59910774230957,
          -33.83679962158203,
          -24.297929763793945,
          -16.33376693725586,
          -54.47062683105469
         ],
         "y": [
          19.33110809326172,
          36.160770416259766,
          32.196041107177734,
          55.32099151611328,
          33.12394332885742,
          8.89534854888916,
          30.754976272583008,
          31.890779495239258,
          13.472946166992188,
          53.160240173339844,
          37.68605422973633,
          45.96466827392578,
          37.83555221557617,
          22.168468475341797,
          27.023710250854492,
          52.30853271484375,
          22.956026077270508,
          56.64555740356445,
          43.3327751159668,
          40.107704162597656,
          29.72569465637207,
          -15.707476615905762,
          47.46453857421875,
          30.33180809020996,
          12.17985725402832,
          10.707324981689453,
          22.456466674804688,
          32.56259536743164,
          51.20431900024414,
          10.298290252685547,
          45.271114349365234,
          18.26849937438965,
          30.921354293823242,
          7.121241092681885,
          49.10721206665039,
          29.438825607299805,
          38.5849723815918,
          38.201053619384766,
          12.694071769714355,
          47.136409759521484,
          35.80807113647461,
          -37.05417251586914,
          28.869213104248047,
          36.91945266723633,
          23.151473999023438,
          37.00233459472656,
          27.77237319946289,
          -38.501888275146484,
          28.34701156616211,
          36.873130798339844,
          40.371864318847656,
          5.6811323165893555,
          26.747085571289062,
          50.06424331665039,
          28.913515090942383,
          12.481785774230957,
          51.3238639831543,
          52.36457061767578,
          -61.17685317993164,
          25.666704177856445,
          36.104896545410156,
          35.66617965698242,
          18.61697006225586,
          51.17391586303711,
          35.215023040771484,
          46.835235595703125,
          9.862594604492188,
          44.8505744934082,
          25.29583168029785,
          36.74887466430664,
          31.77689552307129,
          10.526111602783203,
          48.49171447753906,
          40.47417449951172,
          40.44746398925781,
          58.956424713134766,
          24.29147720336914,
          36.550437927246094,
          32.42047882080078,
          9.145012855529785,
          45.890445709228516,
          37.00807571411133,
          51.644954681396484,
          31.419471740722656,
          56.34297561645508,
          17.791166305541992,
          22.723033905029297
         ],
         "z": [
          18.793643951416016,
          -15.548051834106445,
          27.556110382080078,
          -3.9403293132781982,
          -7.097015857696533,
          11.763725280761719,
          19.076810836791992,
          6.497635841369629,
          11.619122505187988,
          4.22119665145874,
          12.942373275756836,
          24.690200805664062,
          8.446602821350098,
          6.818438529968262,
          -24.23292350769043,
          -4.165249824523926,
          -15.17859172821045,
          2.8808400630950928,
          -12.504884719848633,
          3.9825172424316406,
          14.633082389831543,
          -63.66727066040039,
          -16.96014976501465,
          -8.301697731018066,
          -9.16324234008789,
          -10.431587219238281,
          -2.8226959705352783,
          24.814367294311523,
          11.517611503601074,
          -2.980201244354248,
          18.12664794921875,
          -10.082864761352539,
          2.591959238052368,
          0.8794512152671814,
          -9.354599952697754,
          30.083986282348633,
          7.587148666381836,
          -1.0847065448760986,
          -1.9756975173950195,
          -5.456814289093018,
          -13.436500549316406,
          -53.195587158203125,
          20.444183349609375,
          -10.496733665466309,
          13.435110092163086,
          36.638954162597656,
          -23.70811653137207,
          -21.184640884399414,
          -0.3022867441177368,
          16.86263084411621,
          -15.004981994628906,
          -4.484500885009766,
          26.553308486938477,
          24.922094345092773,
          -10.069089889526367,
          -4.620352745056152,
          -12.4746675491333,
          -12.804215431213379,
          15.971198081970215,
          1.3603981733322144,
          -8.479934692382812,
          0.8633733987808228,
          -13.088587760925293,
          14.08446979522705,
          24.755634307861328,
          -18.209754943847656,
          17.045066833496094,
          9.112069129943848,
          25.63747787475586,
          1.5082463026046753,
          1.7245651483535767,
          -1.4914010763168335,
          -11.032731056213379,
          -5.365899085998535,
          29.24341583251953,
          5.7903876304626465,
          -9.33054256439209,
          -22.18207550048828,
          12.222784996032715,
          -47.918174743652344,
          12.76709270477295,
          32.06413269042969,
          -11.84931755065918,
          -10.52992057800293,
          16.734580993652344,
          -3.0400242805480957,
          -19.98933982849121
         ]
        },
        {
         "hovertemplate": "Sentiment=family_2<br>0=%{x}<br>1=%{y}<br>2=%{z}<extra></extra>",
         "legendgroup": "family_2",
         "marker": {
          "color": "#EF553B",
          "size": 4,
          "symbol": "circle"
         },
         "mode": "markers",
         "name": "family_2",
         "scene": "scene",
         "showlegend": true,
         "type": "scatter3d",
         "x": [
          -44.408538818359375,
          -28.300777435302734,
          -3.6329867839813232,
          11.509475708007812,
          -14.04841136932373,
          -34.70808792114258,
          -39.065147399902344,
          -21.71885871887207,
          -44.52738571166992,
          2.5114121437072754,
          -6.403698444366455,
          -47.378719329833984,
          -5.836590766906738,
          -33.73225021362305,
          -13.273444175720215,
          -13.848796844482422,
          -19.65663719177246,
          21.30579948425293,
          -9.338677406311035,
          -32.48528289794922,
          -13.679356575012207,
          -14.232773780822754,
          -42.54115295410156,
          -1.2541899681091309,
          -2.5256316661834717,
          4.491459846496582,
          -3.4765591621398926,
          9.78502082824707,
          -35.6688232421875,
          -14.05545425415039,
          9.19490909576416,
          13.119050979614258,
          -35.38950729370117,
          -36.758602142333984,
          -18.452678680419922,
          -3.7416536808013916,
          -30.234920501708984,
          -16.95439338684082,
          -18.54886245727539,
          4.807669162750244,
          -15.312886238098145,
          -11.52417278289795,
          2.3740084171295166,
          -42.384124755859375,
          -29.640058517456055,
          -21.34206199645996,
          -8.761433601379395,
          -12.91538143157959,
          -35.88920593261719,
          -10.777010917663574,
          4.405270576477051,
          -23.533145904541016,
          -11.337867736816406,
          -41.7392463684082,
          -16.332077026367188,
          -3.9162800312042236,
          -18.526601791381836,
          -7.68195104598999,
          -39.989437103271484,
          4.5109076499938965,
          -7.04946756362915,
          -1.2993404865264893,
          -6.920759201049805,
          -20.950803756713867,
          -26.474519729614258,
          -34.34148025512695,
          -13.071980476379395,
          0.45243045687675476,
          -38.75523376464844,
          -22.262714385986328,
          -21.946163177490234,
          -8.942757606506348,
          8.778421401977539,
          -34.688697814941406,
          -41.212642669677734,
          11.981943130493164,
          -42.70676803588867,
          6.163682460784912,
          -3.5714430809020996,
          -9.838562965393066,
          62.014949798583984,
          6.962461948394775,
          -15.315302848815918,
          -13.9237699508667,
          -22.134471893310547,
          -20.750112533569336,
          0.9934273958206177,
          4.986873149871826,
          -2.3837146759033203
         ],
         "y": [
          -19.69595718383789,
          -32.438228607177734,
          -3.121825933456421,
          -17.901199340820312,
          -43.142608642578125,
          -35.275718688964844,
          -27.285890579223633,
          -26.980966567993164,
          -27.60638999938965,
          -13.509496688842773,
          -45.53340148925781,
          -25.51457405090332,
          -14.674031257629395,
          -19.5732421875,
          -12.86780834197998,
          2.658783197402954,
          4.583398342132568,
          18.606487274169922,
          -15.37356948852539,
          30.10323143005371,
          -20.878982543945312,
          -38.48598098754883,
          -19.299406051635742,
          -8.854918479919434,
          14.553988456726074,
          -2.733832597732544,
          -11.265621185302734,
          -10.103782653808594,
          -29.376523971557617,
          -37.858604431152344,
          -19.670927047729492,
          14.92685604095459,
          -49.16594314575195,
          -13.058452606201172,
          -30.590293884277344,
          -0.7626931071281433,
          -52.031532287597656,
          -37.829689025878906,
          -39.076900482177734,
          7.840362548828125,
          -35.16065216064453,
          -2.8751466274261475,
          8.457608222961426,
          -26.809410095214844,
          -21.656394958496094,
          -19.441009521484375,
          3.7208938598632812,
          53.12919616699219,
          -49.48123550415039,
          -30.77104949951172,
          16.845462799072266,
          -14.323232650756836,
          -33.83143615722656,
          -35.99076461791992,
          -17.635530471801758,
          8.154303550720215,
          9.811089515686035,
          -19.571382522583008,
          -33.641658782958984,
          10.261104583740234,
          3.681840181350708,
          11.970682144165039,
          4.5172119140625,
          2.1649627685546875,
          1.726125717163086,
          -36.29453659057617,
          -15.379010200500488,
          13.19018840789795,
          -25.611982345581055,
          -20.280345916748047,
          -44.284080505371094,
          -0.31068024039268494,
          13.317665100097656,
          -18.144081115722656,
          -34.048179626464844,
          -12.000317573547363,
          -15.67442798614502,
          -8.976764678955078,
          -17.12653160095215,
          -26.426822662353516,
          35.49648666381836,
          16.872154235839844,
          -27.95124626159668,
          -32.12076950073242,
          -27.16779327392578,
          -2.754483461380005,
          -7.097846984863281,
          -15.178258895874023,
          -18.89995002746582
         ],
         "z": [
          23.378969192504883,
          20.046613693237305,
          29.804643630981445,
          45.591217041015625,
          37.051753997802734,
          36.93467712402344,
          35.67327880859375,
          16.703224182128906,
          39.73466110229492,
          29.200618743896484,
          25.291872024536133,
          25.51361846923828,
          66.83489990234375,
          54.285762786865234,
          28.84096336364746,
          37.15143585205078,
          58.27122497558594,
          -91.72883605957031,
          59.92515182495117,
          -49.88221740722656,
          29.611309051513672,
          53.64194869995117,
          51.55038833618164,
          24.584688186645508,
          52.542816162109375,
          31.607004165649414,
          60.1002311706543,
          47.044578552246094,
          44.23086166381836,
          19.265230178833008,
          37.52970504760742,
          62.16981506347656,
          34.57775115966797,
          53.485782623291016,
          57.417945861816406,
          71.18457794189453,
          38.37788391113281,
          33.9084587097168,
          40.965702056884766,
          66.69071960449219,
          63.51066589355469,
          68.61968994140625,
          73.50383758544922,
          18.692310333251953,
          19.954618453979492,
          39.60173416137695,
          73.27350616455078,
          -41.86104202270508,
          41.5672721862793,
          58.207828521728516,
          48.19826126098633,
          47.13277816772461,
          23.164676666259766,
          36.4259033203125,
          42.507667541503906,
          48.76772689819336,
          50.524742126464844,
          27.76046371459961,
          23.14464569091797,
          49.2746696472168,
          65.87957000732422,
          43.91422653198242,
          37.21672058105469,
          47.42049789428711,
          54.71349334716797,
          45.65168762207031,
          22.208078384399414,
          69.06051635742188,
          24.68208885192871,
          48.75921630859375,
          34.76540756225586,
          41.56126403808594,
          71.5993881225586,
          46.81661605834961,
          45.592750549316406,
          40.08977127075195,
          44.15312957763672,
          25.580734252929688,
          54.18136215209961,
          40.91151428222656,
          -21.481704711914062,
          60.66948699951172,
          64.40606689453125,
          50.44007110595703,
          23.785724639892578,
          55.02802658081055,
          35.18077850341797,
          43.238677978515625,
          62.54342269897461
         ]
        },
        {
         "hovertemplate": "Sentiment=family_3<br>0=%{x}<br>1=%{y}<br>2=%{z}<extra></extra>",
         "legendgroup": "family_3",
         "marker": {
          "color": "#00cc96",
          "size": 4,
          "symbol": "circle"
         },
         "mode": "markers",
         "name": "family_3",
         "scene": "scene",
         "showlegend": true,
         "type": "scatter3d",
         "x": [
          -40.82497787475586,
          -6.637150764465332,
          -4.322071552276611,
          -37.56313705444336,
          -22.071758270263672,
          -12.880359649658203,
          6.364909648895264,
          1.7387347221374512,
          -48.10417556762695,
          -33.30727767944336,
          10.280488014221191,
          -13.471393585205078,
          -26.81897735595703,
          -13.405606269836426,
          -24.337404251098633,
          -18.498594284057617,
          -27.43691635131836,
          -40.11348342895508,
          7.452055931091309,
          -26.464855194091797,
          -18.478761672973633,
          -35.0576057434082,
          24.51812171936035,
          -4.9104838371276855,
          -15.408931732177734,
          -19.352725982666016,
          -13.538393020629883,
          -53.011314392089844,
          -8.249746322631836,
          7.221917152404785,
          -18.080106735229492,
          15.276817321777344,
          1.7815440893173218,
          -10.651671409606934,
          -14.256599426269531,
          10.907633781433105,
          -9.06233024597168,
          59.055809020996094,
          -36.66025161743164,
          3.641261339187622,
          -11.458181381225586,
          -41.75384521484375,
          24.903949737548828,
          -3.661959171295166,
          6.806813716888428,
          -9.590106964111328,
          1.49248468875885,
          -27.80246925354004,
          22.56477165222168,
          14.131731986999512,
          0.17465025186538696,
          9.1942720413208,
          13.175869941711426,
          -5.565981388092041,
          -4.675246715545654,
          -29.316463470458984,
          33.90673828125,
          1.3402870893478394,
          24.487531661987305,
          -45.94184875488281,
          -6.605319976806641,
          -21.22709083557129,
          -0.05281422659754753,
          -19.626375198364258,
          -27.817838668823242,
          -15.102665901184082,
          -15.939225196838379,
          0.6929603219032288,
          -3.342653751373291,
          -22.25814437866211,
          -11.3065824508667,
          24.7783260345459,
          -21.60162925720215,
          -1.5852763652801514,
          -3.5857255458831787,
          10.587676048278809,
          -13.598641395568848,
          -32.03495407104492,
          -4.053642272949219,
          25.662912368774414,
          -18.096548080444336,
          -42.53082275390625,
          11.628975868225098,
          17.052261352539062,
          30.27322769165039,
          -3.033261299133301,
          11.738628387451172,
          -28.43638038635254,
          -11.800122261047363,
          17.96125602722168,
          -4.957709312438965,
          2.7588560581207275,
          10.19614028930664,
          23.291994094848633,
          17.330703735351562,
          -34.207420349121094,
          14.623398780822754
         ],
         "y": [
          -29.33247947692871,
          -21.648801803588867,
          -21.395658493041992,
          -22.86598777770996,
          121.35443115234375,
          -68.40070343017578,
          -74.81299591064453,
          -39.20197296142578,
          4.308183670043945,
          -19.256309509277344,
          -57.20865249633789,
          -44.867374420166016,
          -7.884495735168457,
          -8.097610473632812,
          -19.616209030151367,
          -13.926414489746094,
          -43.911346435546875,
          -19.22319221496582,
          -55.33006286621094,
          -52.554500579833984,
          -43.5360107421875,
          -38.528079986572266,
          -33.61639404296875,
          -61.13566970825195,
          -8.17345142364502,
          -12.413989067077637,
          -45.63718795776367,
          -31.33237648010254,
          -16.341785430908203,
          -34.12563705444336,
          -54.287109375,
          -29.96295738220215,
          -51.0998420715332,
          -45.5128173828125,
          -51.69395446777344,
          -43.63346862792969,
          -58.67009735107422,
          50.97687911987305,
          67.71077728271484,
          -19.133363723754883,
          -60.9817008972168,
          -15.778168678283691,
          -42.283447265625,
          11.858838081359863,
          -37.68285369873047,
          -17.62201690673828,
          -32.07646560668945,
          -44.637142181396484,
          -42.251251220703125,
          -34.200584411621094,
          -39.60408020019531,
          -34.97058868408203,
          -39.29954528808594,
          -47.937164306640625,
          -41.06828689575195,
          -33.975730895996094,
          -39.95967102050781,
          -69.97161865234375,
          -36.593807220458984,
          -22.10963249206543,
          -70.67522430419922,
          76.68074798583984,
          -6.616663455963135,
          -25.81915855407715,
          -9.53984546661377,
          -18.607093811035156,
          -59.85764694213867,
          -43.515316009521484,
          -13.831900596618652,
          -40.181663513183594,
          42.22408676147461,
          -33.96507263183594,
          -47.76017761230469,
          -58.126834869384766,
          -66.9325942993164,
          -27.334274291992188,
          -24.65472412109375,
          -40.048553466796875,
          -74.20023345947266,
          -23.850202560424805,
          -54.009483337402344,
          -31.93983268737793,
          -38.59345245361328,
          -53.03394317626953,
          -37.809471130371094,
          -49.86208724975586,
          -51.091915130615234,
          -41.330780029296875,
          -39.057350158691406,
          -48.11308670043945,
          -61.774200439453125,
          -45.132179260253906,
          -71.54763793945312,
          -50.89253234863281,
          -57.4470329284668,
          -30.2790584564209,
          -32.96280288696289
         ],
         "z": [
          -22.084821701049805,
          -32.00435256958008,
          -23.05270004272461,
          -8.1001615524292,
          55.39731216430664,
          -14.397305488586426,
          -18.38849449157715,
          -30.592439651489258,
          35.89260482788086,
          -11.826603889465332,
          -8.973520278930664,
          -47.70951461791992,
          -29.58933448791504,
          -15.849169731140137,
          -30.525732040405273,
          -1.171634554862976,
          -47.75244903564453,
          -19.87353515625,
          -15.666232109069824,
          -46.33553695678711,
          -43.09013748168945,
          -27.752531051635742,
          -39.71931076049805,
          -30.54383087158203,
          -6.948580265045166,
          -10.119799613952637,
          -26.839599609375,
          -25.30898666381836,
          -24.559091567993164,
          -8.479373931884766,
          -8.975337028503418,
          -22.349836349487305,
          -3.9741976261138916,
          -39.532161712646484,
          -21.360397338867188,
          -28.917232513427734,
          -36.391666412353516,
          5.416003227233887,
          36.10401153564453,
          -42.15085983276367,
          -2.6667630672454834,
          -12.66390323638916,
          -11.301459312438965,
          230.15000915527344,
          -36.131221771240234,
          -8.172905921936035,
          -33.855709075927734,
          -55.59627151489258,
          -3.7816123962402344,
          -29.202472686767578,
          -37.52104187011719,
          -24.28868293762207,
          -10.09804916381836,
          -3.428413152694702,
          -8.65479564666748,
          -25.124364852905273,
          7.927561283111572,
          -7.55214262008667,
          -20.00212860107422,
          -15.084612846374512,
          -6.737941741943359,
          3.811924457550049,
          -9.719632148742676,
          -27.669939041137695,
          -35.54249572753906,
          -33.42257308959961,
          -12.916471481323242,
          -1.820621132850647,
          -13.479096412658691,
          -52.78292465209961,
          53.63982009887695,
          -10.357900619506836,
          -52.95469284057617,
          -35.285484313964844,
          -12.950767517089844,
          -26.620338439941406,
          -22.098411560058594,
          -20.71590805053711,
          -12.46712875366211,
          62.03693389892578,
          -41.725650787353516,
          -16.652854919433594,
          -2.9538989067077637,
          -26.530597686767578,
          -7.288992404937744,
          -10.654458045959473,
          -11.257153511047363,
          -27.32109832763672,
          -40.998146057128906,
          -21.256010055541992,
          -5.1605987548828125,
          -9.312582015991211,
          -14.980850219726562,
          -23.484230041503906,
          -16.070575714111328,
          -16.319124221801758,
          -6.662294387817383
         ]
        },
        {
         "hovertemplate": "Sentiment=family_4<br>0=%{x}<br>1=%{y}<br>2=%{z}<extra></extra>",
         "legendgroup": "family_4",
         "marker": {
          "color": "#ab63fa",
          "size": 4,
          "symbol": "circle"
         },
         "mode": "markers",
         "name": "family_4",
         "scene": "scene",
         "showlegend": true,
         "type": "scatter3d",
         "x": [
          17.512422561645508,
          3.2384748458862305,
          38.24488067626953,
          36.665557861328125,
          -5.7007975578308105,
          40.82691955566406,
          18.640419006347656,
          0.5355112552642822,
          -4.982522487640381,
          26.245960235595703,
          20.619125366210938,
          42.7579460144043,
          22.875513076782227,
          13.986541748046875,
          8.854981422424316,
          7.397894382476807,
          20.990644454956055,
          6.669017791748047,
          48.64306640625,
          26.454025268554688,
          41.950687408447266,
          45.394378662109375,
          30.857261657714844,
          32.57740020751953,
          20.040884017944336,
          23.86741065979004,
          28.410449981689453,
          39.53450393676758,
          24.192201614379883,
          -11.285618782043457,
          35.842063903808594,
          34.010040283203125,
          37.304622650146484,
          41.51809310913086,
          10.414009094238281,
          22.58580207824707,
          27.10112953186035,
          21.874975204467773,
          37.670806884765625,
          9.27288818359375,
          25.063488006591797,
          38.16982650756836,
          30.779455184936523,
          42.456329345703125,
          37.67399215698242,
          24.352365493774414,
          -29.860912322998047,
          0.597484290599823,
          40.42010498046875,
          39.88193130493164,
          50.50282669067383,
          15.221948623657227,
          28.264225006103516,
          22.202516555786133,
          2.8915047645568848,
          43.65447998046875,
          4.7288360595703125,
          32.991241455078125,
          1.897559642791748,
          34.305030822753906,
          13.1721773147583,
          35.95347595214844,
          23.528364181518555,
          -7.698184013366699,
          -30.76378631591797,
          -1.24074387550354,
          14.037099838256836,
          2.6620357036590576,
          1.908198356628418,
          10.940387725830078,
          33.52598190307617,
          36.01045227050781,
          23.637697219848633,
          14.169934272766113,
          -3.0362720489501953,
          -0.3419651985168457,
          45.82862091064453,
          45.67787170410156,
          42.56308364868164,
          33.41842269897461,
          -4.243025302886963,
          11.237483024597168,
          17.69045639038086,
          39.6146125793457,
          21.353124618530273,
          17.941177368164062
         ],
         "y": [
          38.24613571166992,
          24.639604568481445,
          18.00370979309082,
          26.86400032043457,
          6.363471984863281,
          56.38351058959961,
          43.76561737060547,
          18.499141693115234,
          23.940889358520508,
          19.479846954345703,
          13.387280464172363,
          50.99173355102539,
          28.693397521972656,
          33.24208068847656,
          5.039488792419434,
          12.419490814208984,
          20.8223876953125,
          31.326030731201172,
          61.07111740112305,
          45.03363800048828,
          63.27183532714844,
          17.629182815551758,
          28.59762191772461,
          9.846308708190918,
          29.568531036376953,
          40.527984619140625,
          12.722644805908203,
          55.34360122680664,
          51.28590393066406,
          8.474038124084473,
          35.80728530883789,
          35.411277770996094,
          24.049888610839844,
          12.114399909973145,
          20.918292999267578,
          43.71640396118164,
          10.239811897277832,
          12.533676147460938,
          53.53459548950195,
          -4.1062846183776855,
          34.82388687133789,
          18.765892028808594,
          46.4588737487793,
          12.632966041564941,
          21.439361572265625,
          27.771385192871094,
          33.04491424560547,
          20.039026260375977,
          11.829269409179688,
          59.77089309692383,
          57.261878967285156,
          1.679871678352356,
          33.97777557373047,
          -9.921578407287598,
          3.6747984886169434,
          24.330726623535156,
          -0.66191565990448,
          13.404414176940918,
          28.79993438720703,
          60.098167419433594,
          21.617733001708984,
          16.514312744140625,
          37.526309967041016,
          13.887218475341797,
          -80.3073501586914,
          30.83046531677246,
          1.1047348976135254,
          19.70449447631836,
          9.996307373046875,
          3.6081924438476562,
          61.708003997802734,
          23.47406578063965,
          35.47699737548828,
          27.378284454345703,
          8.207176208496094,
          9.280232429504395,
          19.032127380371094,
          53.49723815917969,
          19.613191604614258,
          28.406339645385742,
          2.120713472366333,
          -4.384034156799316,
          41.469181060791016,
          63.741031646728516,
          31.069429397583008,
          15.034700393676758
         ],
         "z": [
          -29.228519439697266,
          -58.617767333984375,
          -40.78458786010742,
          -38.169742584228516,
          -45.43363571166992,
          -19.589923858642578,
          -26.949033737182617,
          -27.00128936767578,
          -63.63013458251953,
          -35.33771514892578,
          -32.17375946044922,
          -7.989630222320557,
          -11.872641563415527,
          -49.89942932128906,
          -38.87199401855469,
          -28.85646629333496,
          -70.6212387084961,
          -62.02785110473633,
          -29.195735931396484,
          -7.17210578918457,
          -21.809463500976562,
          -66.20008087158203,
          -9.874638557434082,
          -66.72260284423828,
          -50.89973449707031,
          -37.19321823120117,
          -43.00864791870117,
          -4.942476272583008,
          -2.014871597290039,
          -51.706172943115234,
          2.5075345039367676,
          -5.284219741821289,
          -48.5447998046875,
          -70.59627532958984,
          -71.38914489746094,
          -1.4878120422363281,
          -36.27582550048828,
          -40.2723388671875,
          -31.42504119873047,
          -42.61638259887695,
          -7.833206653594971,
          -66.97663879394531,
          -0.9651204347610474,
          -44.99993896484375,
          -32.67949676513672,
          -4.268823146820068,
          60.16737747192383,
          -65.58979797363281,
          -63.37421798706055,
          -33.16007995605469,
          -23.60410499572754,
          -36.97454833984375,
          0.9224797487258911,
          76.52234649658203,
          -55.73110580444336,
          -35.85218811035156,
          -34.42597198486328,
          -72.53936767578125,
          -67.29065704345703,
          -24.762407302856445,
          -63.908084869384766,
          -51.60932922363281,
          -19.471248626708984,
          -50.344581604003906,
          -7.054936408996582,
          -59.576080322265625,
          -46.26852798461914,
          -32.63815689086914,
          -31.27618980407715,
          -30.31013298034668,
          -16.480321884155273,
          -55.49340057373047,
          -47.09172058105469,
          -69.19590759277344,
          -57.40020751953125,
          -49.27137756347656,
          -42.59893798828125,
          -28.500194549560547,
          -52.70390701293945,
          -1.2774380445480347,
          -53.824127197265625,
          -33.527137756347656,
          -38.736820220947266,
          -13.1398286819458,
          -43.241790771484375,
          -69.23687744140625
         ]
        },
        {
         "hovertemplate": "Sentiment=family_5<br>0=%{x}<br>1=%{y}<br>2=%{z}<extra></extra>",
         "legendgroup": "family_5",
         "marker": {
          "color": "#FFA15A",
          "size": 4,
          "symbol": "circle"
         },
         "mode": "markers",
         "name": "family_5",
         "scene": "scene",
         "showlegend": true,
         "type": "scatter3d",
         "x": [
          24.398759841918945,
          56.19158935546875,
          76.73860168457031,
          32.11509323120117,
          27.45064926147461,
          62.84010314941406,
          65.46136474609375,
          60.66374588012695,
          65.37366485595703,
          34.253273010253906,
          62.2064094543457,
          63.48358154296875,
          29.392332077026367,
          51.746849060058594,
          75.76103973388672,
          26.338674545288086,
          70.02627563476562,
          51.982215881347656,
          57.26020812988281,
          71.19408416748047,
          33.06814956665039,
          38.550357818603516,
          31.216875076293945,
          46.33312225341797,
          72.90790557861328,
          75.2558364868164,
          74.78934478759766,
          78.94810485839844,
          65.21287536621094,
          39.79340362548828,
          74.77337646484375,
          75.96465301513672,
          37.42655944824219,
          45.471622467041016,
          36.89864730834961,
          69.30352783203125,
          -63.895015716552734,
          -10.456454277038574,
          68.40340423583984,
          24.19518280029297,
          -72.0328369140625,
          34.98982620239258,
          47.193321228027344,
          65.2775650024414,
          41.82640838623047,
          62.42465591430664,
          57.64704513549805,
          73.78951263427734,
          25.427371978759766,
          45.59733963012695,
          77.27877807617188,
          49.09699249267578,
          38.77691650390625,
          39.048789978027344,
          -89.92822265625,
          75.78738403320312,
          67.1591796875,
          -56.519561767578125,
          38.42343521118164,
          41.599483489990234,
          51.186527252197266,
          68.27204895019531,
          60.24657440185547,
          33.784854888916016,
          -68.089111328125,
          38.8832893371582,
          -79.767333984375,
          34.767921447753906,
          70.47246551513672,
          46.90463638305664,
          33.05046844482422,
          67.52155303955078,
          40.94184875488281,
          30.045927047729492,
          76.4638671875,
          78.24244689941406,
          26.64288902282715,
          -37.81608200073242,
          45.22331619262695,
          43.2872314453125,
          42.13059997558594,
          54.24618148803711,
          36.37947463989258,
          49.78772735595703,
          51.877445220947266,
          49.80438995361328,
          55.88318634033203,
          55.33047866821289,
          45.03777313232422,
          52.45529556274414
         ],
         "y": [
          -16.2835636138916,
          3.9671356678009033,
          30.64246368408203,
          -27.974271774291992,
          -3.5516245365142822,
          0.7752129435539246,
          -3.57907772064209,
          3.7173824310302734,
          2.433276891708374,
          -5.374608039855957,
          -17.553295135498047,
          7.831506729125977,
          -34.472232818603516,
          -3.441898822784424,
          -0.47217559814453125,
          -4.805702209472656,
          -0.34126657247543335,
          8.535675048828125,
          -13.322295188903809,
          12.351966857910156,
          -9.933609962463379,
          -8.118474006652832,
          -3.4012508392333984,
          -9.950678825378418,
          23.77463150024414,
          -7.6145920753479,
          4.772181987762451,
          5.417099952697754,
          -4.541028022766113,
          -3.750917673110962,
          17.333881378173828,
          -6.0322723388671875,
          5.703009128570557,
          -11.939522743225098,
          -32.67994689941406,
          -4.727002143859863,
          -33.82865524291992,
          34.114505767822266,
          14.08973217010498,
          -9.652179718017578,
          12.087814331054688,
          -37.76499557495117,
          -11.599409103393555,
          9.8003511428833,
          -12.595385551452637,
          -10.677552223205566,
          0.06208664923906326,
          2.3923091888427734,
          -9.253701210021973,
          10.904184341430664,
          23.981966018676758,
          5.561508655548096,
          -4.610781192779541,
          -31.411380767822266,
          6.432425498962402,
          1.1185835599899292,
          9.525869369506836,
          -47.971282958984375,
          -2.681248188018799,
          -10.269403457641602,
          14.307991027832031,
          -6.864924907684326,
          16.222871780395508,
          -9.691986083984375,
          0.2054685801267624,
          -9.517829895019531,
          14.28095531463623,
          -4.515580177307129,
          27.869766235351562,
          -5.600157260894775,
          -31.38697624206543,
          20.88436508178711,
          11.637985229492188,
          -13.882919311523438,
          30.6779727935791,
          9.739107131958008,
          -32.82279968261719,
          -68.4518814086914,
          -5.597413063049316,
          -26.35899543762207,
          -4.418099403381348,
          10.147393226623535,
          -11.160383224487305,
          -6.297243595123291,
          -6.6085028648376465,
          0.2706378102302551,
          -1.7736783027648926,
          -5.155227184295654,
          17.004764556884766,
          -11.529637336730957
         ],
         "z": [
          20.348262786865234,
          -11.5033540725708,
          3.268984794616699,
          36.528072357177734,
          10.103246688842773,
          6.447859764099121,
          21.775259017944336,
          43.196563720703125,
          -7.519223690032959,
          -10.649178504943848,
          13.03425407409668,
          25.210845947265625,
          38.86524963378906,
          -13.403179168701172,
          -20.061208724975586,
          3.2358345985412598,
          7.37507963180542,
          35.275367736816406,
          10.201576232910156,
          22.78120994567871,
          6.314319133758545,
          -2.494375228881836,
          31.260147094726562,
          53.856056213378906,
          0.882813036441803,
          -22.21063804626465,
          -12.093660354614258,
          28.382564544677734,
          3.5303173065185547,
          5.214270114898682,
          27.374788284301758,
          -14.492289543151855,
          39.3621826171875,
          16.616790771484375,
          43.181697845458984,
          -17.75930404663086,
          2.39851713180542,
          -35.68986511230469,
          30.080669403076172,
          7.969030857086182,
          42.021419525146484,
          34.338687896728516,
          43.40185546875,
          -11.403000831604004,
          48.075767517089844,
          18.109142303466797,
          49.025299072265625,
          -5.929105281829834,
          19.013782501220703,
          29.016796112060547,
          7.740530014038086,
          45.98250961303711,
          31.789302825927734,
          34.61310577392578,
          62.43419647216797,
          35.932979583740234,
          -4.154051303863525,
          11.330117225646973,
          44.404048919677734,
          5.103994846343994,
          38.00098419189453,
          13.007440567016602,
          23.449256896972656,
          34.18279266357422,
          39.17185592651367,
          -9.840510368347168,
          13.39741039276123,
          24.152610778808594,
          7.515377044677734,
          48.34832763671875,
          27.697551727294922,
          23.359468460083008,
          34.89358901977539,
          16.6247501373291,
          10.918488502502441,
          35.41773223876953,
          30.239004135131836,
          -23.973331451416016,
          21.590526580810547,
          47.619163513183594,
          15.436185836791992,
          46.87997817993164,
          26.57718276977539,
          15.204030990600586,
          28.6511173248291,
          -6.694981098175049,
          41.93212890625,
          -7.957829475402832,
          31.677642822265625,
          24.43185806274414
         ]
        },
        {
         "hovertemplate": "Sentiment=family_12345<br>0=%{x}<br>1=%{y}<br>2=%{z}<extra></extra>",
         "legendgroup": "family_12345",
         "marker": {
          "color": "#19d3f3",
          "size": 4,
          "symbol": "circle"
         },
         "mode": "markers",
         "name": "family_12345",
         "scene": "scene",
         "showlegend": true,
         "type": "scatter3d",
         "x": [
          -60.279624938964844,
          18.102705001831055,
          -13.736628532409668,
          53.24581527709961,
          -31.718965530395508,
          -34.110992431640625,
          6.9454569816589355,
          21.694210052490234,
          -49.70832443237305,
          -0.8900717496871948,
          -16.74856185913086,
          -56.11789321899414,
          29.805665969848633,
          -48.268314361572266,
          -18.636930465698242,
          -33.53044128417969,
          19.796653747558594,
          51.85285568237305,
          -16.188350677490234,
          -57.11642074584961,
          21.438459396362305,
          -1.156673550605774,
          56.784019470214844,
          29.56017303466797,
          24.19356346130371,
          48.353271484375,
          13.884160041809082,
          -10.651036262512207,
          -105.8294677734375,
          -57.72325134277344,
          -32.98032760620117,
          -0.1564233899116516,
          -7.849145412445068,
          -46.29792785644531,
          71.48783111572266,
          -32.70457458496094,
          -53.57496643066406,
          42.024871826171875,
          -14.97146224975586,
          -3.3923165798187256,
          19.784820556640625,
          45.961883544921875,
          -5.659945964813232,
          -6.014962196350098,
          10.900466918945312,
          15.335017204284668,
          -0.8096155524253845,
          -62.83583068847656,
          10.667539596557617,
          -61.4478645324707,
          2.160092830657959,
          -50.51750946044922,
          31.73065185546875,
          -48.823524475097656,
          6.140240669250488,
          -9.668654441833496,
          -25.832490921020508,
          -6.738753795623779,
          115.27875518798828,
          25.463014602661133,
          -52.92943572998047,
          -21.80157470703125,
          54.45701599121094,
          -13.087882995605469,
          -29.24272346496582,
          7.159913063049316,
          5.164065361022949,
          7.65181827545166,
          -8.35916805267334,
          11.061095237731934,
          -30.372407913208008,
          -30.082578659057617,
          -29.490184783935547,
          -14.871316909790039,
          43.02726745605469,
          -45.47633361816406,
          22.248994827270508,
          -57.56269073486328,
          -13.542688369750977,
          19.67774200439453,
          25.490585327148438,
          20.04949378967285,
          -14.365931510925293,
          20.97551918029785,
          -1.5424641370773315,
          -9.081554412841797,
          43.17848205566406,
          30.868711471557617,
          15.795992851257324,
          52.357521057128906,
          -33.28878402709961
         ],
         "y": [
          0.3349173963069916,
          -7.8157148361206055,
          20.157686233520508,
          11.704254150390625,
          14.674381256103516,
          -5.021523475646973,
          -4.730402946472168,
          -13.458232879638672,
          13.578422546386719,
          30.79612159729004,
          5.148699760437012,
          35.6339111328125,
          35.829322814941406,
          -40.86420822143555,
          -56.62022399902344,
          -13.613054275512695,
          16.764724731445312,
          26.87115478515625,
          50.07589340209961,
          4.935622215270996,
          -50.5862922668457,
          -30.188241958618164,
          5.005619525909424,
          0.4683948755264282,
          -55.78923416137695,
          27.50836944580078,
          -5.033352851867676,
          60.68427658081055,
          -73.56385803222656,
          11.196831703186035,
          -52.14661407470703,
          45.321956634521484,
          57.097835540771484,
          15.183457374572754,
          -1.9463428258895874,
          19.905651092529297,
          11.473751068115234,
          30.844802856445312,
          41.339359283447266,
          -40.381797790527344,
          -57.224365234375,
          52.64992141723633,
          21.164806365966797,
          -31.748449325561523,
          16.254091262817383,
          13.208964347839355,
          -15.947953224182129,
          4.2723388671875,
          -36.70726776123047,
          1.0936856269836426,
          -18.954113006591797,
          -6.124082088470459,
          -0.10504935681819916,
          -14.80012321472168,
          51.047122955322266,
          -31.22981834411621,
          -44.15957260131836,
          28.426624298095703,
          68.96270751953125,
          -7.525031089782715,
          -11.583539009094238,
          -51.915489196777344,
          20.259798049926758,
          19.40476417541504,
          -9.461185455322266,
          -78.68793487548828,
          -59.835880279541016,
          -16.48506736755371,
          -28.231496810913086,
          -7.28740119934082,
          21.827144622802734,
          -17.190032958984375,
          -49.68083190917969,
          3.290752649307251,
          13.075973510742188,
          20.30636215209961,
          -32.631378173828125,
          -9.754998207092285,
          12.432883262634277,
          13.684593200683594,
          3.409414768218994,
          -29.444358825683594,
          9.25770092010498,
          8.011276245117188,
          1.0459636449813843,
          6.599365711212158,
          -40.90928649902344,
          -8.932522773742676,
          52.456153869628906,
          -22.322072982788086,
          -9.383196830749512
         ],
         "z": [
          6.205336093902588,
          -54.97297668457031,
          42.389469146728516,
          -8.492969512939453,
          -37.637725830078125,
          39.504180908203125,
          -25.68061065673828,
          -51.62502670288086,
          -16.737812042236328,
          23.059730529785156,
          -35.975101470947266,
          7.165930271148682,
          -18.417884826660156,
          -21.78139877319336,
          21.29246711730957,
          2.6659181118011475,
          47.090755462646484,
          -9.58298110961914,
          16.950918197631836,
          9.675568580627441,
          0.6287654638290405,
          -42.323081970214844,
          -3.766977071762085,
          44.0695686340332,
          -12.610610008239746,
          5.584475517272949,
          -9.512364387512207,
          -8.895185470581055,
          -507.3750915527344,
          0.09982458502054214,
          -2.6969475746154785,
          30.543659210205078,
          -16.42650032043457,
          11.010578155517578,
          44.23881912231445,
          -32.33108139038086,
          -6.458333492279053,
          5.068393230438232,
          17.410320281982422,
          26.29682159423828,
          3.820707321166992,
          -37.0423583984375,
          45.7902717590332,
          -47.55636978149414,
          -3.213068962097168,
          -0.5914347767829895,
          -36.215030670166016,
          -7.044430255889893,
          52.1235237121582,
          0.14583057165145874,
          -4.903918743133545,
          16.782135009765625,
          -43.91567611694336,
          -20.569744110107422,
          -6.744373798370361,
          12.645574569702148,
          21.956892013549805,
          -15.710001945495605,
          520.7982788085938,
          -30.68210220336914,
          15.428375244140625,
          20.187482833862305,
          -6.561145305633545,
          32.23533248901367,
          60.43252182006836,
          -9.602886199951172,
          -27.289142608642578,
          -2.716635227203369,
          6.629671096801758,
          -19.79418182373047,
          -21.744808197021484,
          -1.1522094011306763,
          1.0737782716751099,
          12.65787410736084,
          -33.92792892456055,
          14.226046562194824,
          0.7719500660896301,
          10.314688682556152,
          23.466928482055664,
          41.19883728027344,
          -42.47813415527344,
          7.013047218322754,
          16.60574722290039,
          39.64287185668945,
          -62.48810577392578,
          11.390094757080078,
          37.576744079589844,
          -23.66600227355957,
          -3.4344780445098877,
          0.5097078084945679,
          45.50243377685547
         ]
        }
       ],
       "layout": {
        "legend": {
         "title": {
          "text": "Sentiment"
         },
         "tracegroupgap": 0
        },
        "margin": {
         "t": 60
        },
        "scene": {
         "domain": {
          "x": [
           0,
           1
          ],
          "y": [
           0,
           1
          ]
         },
         "xaxis": {
          "title": {
           "text": "0"
          }
         },
         "yaxis": {
          "title": {
           "text": "1"
          }
         },
         "zaxis": {
          "title": {
           "text": "2"
          }
         }
        },
        "template": {
         "data": {
          "bar": [
           {
            "error_x": {
             "color": "#2a3f5f"
            },
            "error_y": {
             "color": "#2a3f5f"
            },
            "marker": {
             "line": {
              "color": "#E5ECF6",
              "width": 0.5
             },
             "pattern": {
              "fillmode": "overlay",
              "size": 10,
              "solidity": 0.2
             }
            },
            "type": "bar"
           }
          ],
          "barpolar": [
           {
            "marker": {
             "line": {
              "color": "#E5ECF6",
              "width": 0.5
             },
             "pattern": {
              "fillmode": "overlay",
              "size": 10,
              "solidity": 0.2
             }
            },
            "type": "barpolar"
           }
          ],
          "carpet": [
           {
            "aaxis": {
             "endlinecolor": "#2a3f5f",
             "gridcolor": "white",
             "linecolor": "white",
             "minorgridcolor": "white",
             "startlinecolor": "#2a3f5f"
            },
            "baxis": {
             "endlinecolor": "#2a3f5f",
             "gridcolor": "white",
             "linecolor": "white",
             "minorgridcolor": "white",
             "startlinecolor": "#2a3f5f"
            },
            "type": "carpet"
           }
          ],
          "choropleth": [
           {
            "colorbar": {
             "outlinewidth": 0,
             "ticks": ""
            },
            "type": "choropleth"
           }
          ],
          "contour": [
           {
            "colorbar": {
             "outlinewidth": 0,
             "ticks": ""
            },
            "colorscale": [
             [
              0,
              "#0d0887"
             ],
             [
              0.1111111111111111,
              "#46039f"
             ],
             [
              0.2222222222222222,
              "#7201a8"
             ],
             [
              0.3333333333333333,
              "#9c179e"
             ],
             [
              0.4444444444444444,
              "#bd3786"
             ],
             [
              0.5555555555555556,
              "#d8576b"
             ],
             [
              0.6666666666666666,
              "#ed7953"
             ],
             [
              0.7777777777777778,
              "#fb9f3a"
             ],
             [
              0.8888888888888888,
              "#fdca26"
             ],
             [
              1,
              "#f0f921"
             ]
            ],
            "type": "contour"
           }
          ],
          "contourcarpet": [
           {
            "colorbar": {
             "outlinewidth": 0,
             "ticks": ""
            },
            "type": "contourcarpet"
           }
          ],
          "heatmap": [
           {
            "colorbar": {
             "outlinewidth": 0,
             "ticks": ""
            },
            "colorscale": [
             [
              0,
              "#0d0887"
             ],
             [
              0.1111111111111111,
              "#46039f"
             ],
             [
              0.2222222222222222,
              "#7201a8"
             ],
             [
              0.3333333333333333,
              "#9c179e"
             ],
             [
              0.4444444444444444,
              "#bd3786"
             ],
             [
              0.5555555555555556,
              "#d8576b"
             ],
             [
              0.6666666666666666,
              "#ed7953"
             ],
             [
              0.7777777777777778,
              "#fb9f3a"
             ],
             [
              0.8888888888888888,
              "#fdca26"
             ],
             [
              1,
              "#f0f921"
             ]
            ],
            "type": "heatmap"
           }
          ],
          "heatmapgl": [
           {
            "colorbar": {
             "outlinewidth": 0,
             "ticks": ""
            },
            "colorscale": [
             [
              0,
              "#0d0887"
             ],
             [
              0.1111111111111111,
              "#46039f"
             ],
             [
              0.2222222222222222,
              "#7201a8"
             ],
             [
              0.3333333333333333,
              "#9c179e"
             ],
             [
              0.4444444444444444,
              "#bd3786"
             ],
             [
              0.5555555555555556,
              "#d8576b"
             ],
             [
              0.6666666666666666,
              "#ed7953"
             ],
             [
              0.7777777777777778,
              "#fb9f3a"
             ],
             [
              0.8888888888888888,
              "#fdca26"
             ],
             [
              1,
              "#f0f921"
             ]
            ],
            "type": "heatmapgl"
           }
          ],
          "histogram": [
           {
            "marker": {
             "pattern": {
              "fillmode": "overlay",
              "size": 10,
              "solidity": 0.2
             }
            },
            "type": "histogram"
           }
          ],
          "histogram2d": [
           {
            "colorbar": {
             "outlinewidth": 0,
             "ticks": ""
            },
            "colorscale": [
             [
              0,
              "#0d0887"
             ],
             [
              0.1111111111111111,
              "#46039f"
             ],
             [
              0.2222222222222222,
              "#7201a8"
             ],
             [
              0.3333333333333333,
              "#9c179e"
             ],
             [
              0.4444444444444444,
              "#bd3786"
             ],
             [
              0.5555555555555556,
              "#d8576b"
             ],
             [
              0.6666666666666666,
              "#ed7953"
             ],
             [
              0.7777777777777778,
              "#fb9f3a"
             ],
             [
              0.8888888888888888,
              "#fdca26"
             ],
             [
              1,
              "#f0f921"
             ]
            ],
            "type": "histogram2d"
           }
          ],
          "histogram2dcontour": [
           {
            "colorbar": {
             "outlinewidth": 0,
             "ticks": ""
            },
            "colorscale": [
             [
              0,
              "#0d0887"
             ],
             [
              0.1111111111111111,
              "#46039f"
             ],
             [
              0.2222222222222222,
              "#7201a8"
             ],
             [
              0.3333333333333333,
              "#9c179e"
             ],
             [
              0.4444444444444444,
              "#bd3786"
             ],
             [
              0.5555555555555556,
              "#d8576b"
             ],
             [
              0.6666666666666666,
              "#ed7953"
             ],
             [
              0.7777777777777778,
              "#fb9f3a"
             ],
             [
              0.8888888888888888,
              "#fdca26"
             ],
             [
              1,
              "#f0f921"
             ]
            ],
            "type": "histogram2dcontour"
           }
          ],
          "mesh3d": [
           {
            "colorbar": {
             "outlinewidth": 0,
             "ticks": ""
            },
            "type": "mesh3d"
           }
          ],
          "parcoords": [
           {
            "line": {
             "colorbar": {
              "outlinewidth": 0,
              "ticks": ""
             }
            },
            "type": "parcoords"
           }
          ],
          "pie": [
           {
            "automargin": true,
            "type": "pie"
           }
          ],
          "scatter": [
           {
            "fillpattern": {
             "fillmode": "overlay",
             "size": 10,
             "solidity": 0.2
            },
            "type": "scatter"
           }
          ],
          "scatter3d": [
           {
            "line": {
             "colorbar": {
              "outlinewidth": 0,
              "ticks": ""
             }
            },
            "marker": {
             "colorbar": {
              "outlinewidth": 0,
              "ticks": ""
             }
            },
            "type": "scatter3d"
           }
          ],
          "scattercarpet": [
           {
            "marker": {
             "colorbar": {
              "outlinewidth": 0,
              "ticks": ""
             }
            },
            "type": "scattercarpet"
           }
          ],
          "scattergeo": [
           {
            "marker": {
             "colorbar": {
              "outlinewidth": 0,
              "ticks": ""
             }
            },
            "type": "scattergeo"
           }
          ],
          "scattergl": [
           {
            "marker": {
             "colorbar": {
              "outlinewidth": 0,
              "ticks": ""
             }
            },
            "type": "scattergl"
           }
          ],
          "scattermapbox": [
           {
            "marker": {
             "colorbar": {
              "outlinewidth": 0,
              "ticks": ""
             }
            },
            "type": "scattermapbox"
           }
          ],
          "scatterpolar": [
           {
            "marker": {
             "colorbar": {
              "outlinewidth": 0,
              "ticks": ""
             }
            },
            "type": "scatterpolar"
           }
          ],
          "scatterpolargl": [
           {
            "marker": {
             "colorbar": {
              "outlinewidth": 0,
              "ticks": ""
             }
            },
            "type": "scatterpolargl"
           }
          ],
          "scatterternary": [
           {
            "marker": {
             "colorbar": {
              "outlinewidth": 0,
              "ticks": ""
             }
            },
            "type": "scatterternary"
           }
          ],
          "surface": [
           {
            "colorbar": {
             "outlinewidth": 0,
             "ticks": ""
            },
            "colorscale": [
             [
              0,
              "#0d0887"
             ],
             [
              0.1111111111111111,
              "#46039f"
             ],
             [
              0.2222222222222222,
              "#7201a8"
             ],
             [
              0.3333333333333333,
              "#9c179e"
             ],
             [
              0.4444444444444444,
              "#bd3786"
             ],
             [
              0.5555555555555556,
              "#d8576b"
             ],
             [
              0.6666666666666666,
              "#ed7953"
             ],
             [
              0.7777777777777778,
              "#fb9f3a"
             ],
             [
              0.8888888888888888,
              "#fdca26"
             ],
             [
              1,
              "#f0f921"
             ]
            ],
            "type": "surface"
           }
          ],
          "table": [
           {
            "cells": {
             "fill": {
              "color": "#EBF0F8"
             },
             "line": {
              "color": "white"
             }
            },
            "header": {
             "fill": {
              "color": "#C8D4E3"
             },
             "line": {
              "color": "white"
             }
            },
            "type": "table"
           }
          ]
         },
         "layout": {
          "annotationdefaults": {
           "arrowcolor": "#2a3f5f",
           "arrowhead": 0,
           "arrowwidth": 1
          },
          "autotypenumbers": "strict",
          "coloraxis": {
           "colorbar": {
            "outlinewidth": 0,
            "ticks": ""
           }
          },
          "colorscale": {
           "diverging": [
            [
             0,
             "#8e0152"
            ],
            [
             0.1,
             "#c51b7d"
            ],
            [
             0.2,
             "#de77ae"
            ],
            [
             0.3,
             "#f1b6da"
            ],
            [
             0.4,
             "#fde0ef"
            ],
            [
             0.5,
             "#f7f7f7"
            ],
            [
             0.6,
             "#e6f5d0"
            ],
            [
             0.7,
             "#b8e186"
            ],
            [
             0.8,
             "#7fbc41"
            ],
            [
             0.9,
             "#4d9221"
            ],
            [
             1,
             "#276419"
            ]
           ],
           "sequential": [
            [
             0,
             "#0d0887"
            ],
            [
             0.1111111111111111,
             "#46039f"
            ],
            [
             0.2222222222222222,
             "#7201a8"
            ],
            [
             0.3333333333333333,
             "#9c179e"
            ],
            [
             0.4444444444444444,
             "#bd3786"
            ],
            [
             0.5555555555555556,
             "#d8576b"
            ],
            [
             0.6666666666666666,
             "#ed7953"
            ],
            [
             0.7777777777777778,
             "#fb9f3a"
            ],
            [
             0.8888888888888888,
             "#fdca26"
            ],
            [
             1,
             "#f0f921"
            ]
           ],
           "sequentialminus": [
            [
             0,
             "#0d0887"
            ],
            [
             0.1111111111111111,
             "#46039f"
            ],
            [
             0.2222222222222222,
             "#7201a8"
            ],
            [
             0.3333333333333333,
             "#9c179e"
            ],
            [
             0.4444444444444444,
             "#bd3786"
            ],
            [
             0.5555555555555556,
             "#d8576b"
            ],
            [
             0.6666666666666666,
             "#ed7953"
            ],
            [
             0.7777777777777778,
             "#fb9f3a"
            ],
            [
             0.8888888888888888,
             "#fdca26"
            ],
            [
             1,
             "#f0f921"
            ]
           ]
          },
          "colorway": [
           "#636efa",
           "#EF553B",
           "#00cc96",
           "#ab63fa",
           "#FFA15A",
           "#19d3f3",
           "#FF6692",
           "#B6E880",
           "#FF97FF",
           "#FECB52"
          ],
          "font": {
           "color": "#2a3f5f"
          },
          "geo": {
           "bgcolor": "white",
           "lakecolor": "white",
           "landcolor": "#E5ECF6",
           "showlakes": true,
           "showland": true,
           "subunitcolor": "white"
          },
          "hoverlabel": {
           "align": "left"
          },
          "hovermode": "closest",
          "mapbox": {
           "style": "light"
          },
          "paper_bgcolor": "white",
          "plot_bgcolor": "#E5ECF6",
          "polar": {
           "angularaxis": {
            "gridcolor": "white",
            "linecolor": "white",
            "ticks": ""
           },
           "bgcolor": "#E5ECF6",
           "radialaxis": {
            "gridcolor": "white",
            "linecolor": "white",
            "ticks": ""
           }
          },
          "scene": {
           "xaxis": {
            "backgroundcolor": "#E5ECF6",
            "gridcolor": "white",
            "gridwidth": 2,
            "linecolor": "white",
            "showbackground": true,
            "ticks": "",
            "zerolinecolor": "white"
           },
           "yaxis": {
            "backgroundcolor": "#E5ECF6",
            "gridcolor": "white",
            "gridwidth": 2,
            "linecolor": "white",
            "showbackground": true,
            "ticks": "",
            "zerolinecolor": "white"
           },
           "zaxis": {
            "backgroundcolor": "#E5ECF6",
            "gridcolor": "white",
            "gridwidth": 2,
            "linecolor": "white",
            "showbackground": true,
            "ticks": "",
            "zerolinecolor": "white"
           }
          },
          "shapedefaults": {
           "line": {
            "color": "#2a3f5f"
           }
          },
          "ternary": {
           "aaxis": {
            "gridcolor": "white",
            "linecolor": "white",
            "ticks": ""
           },
           "baxis": {
            "gridcolor": "white",
            "linecolor": "white",
            "ticks": ""
           },
           "bgcolor": "#E5ECF6",
           "caxis": {
            "gridcolor": "white",
            "linecolor": "white",
            "ticks": ""
           }
          },
          "title": {
           "x": 0.05
          },
          "xaxis": {
           "automargin": true,
           "gridcolor": "white",
           "linecolor": "white",
           "ticks": "",
           "title": {
            "standoff": 15
           },
           "zerolinecolor": "white",
           "zerolinewidth": 2
          },
          "yaxis": {
           "automargin": true,
           "gridcolor": "white",
           "linecolor": "white",
           "ticks": "",
           "title": {
            "standoff": 15
           },
           "zerolinecolor": "white",
           "zerolinewidth": 2
          }
         }
        },
        "title": {
         "text": "T-SNE for Matrix 1"
        }
       }
      }
     },
     "metadata": {},
     "output_type": "display_data"
    }
   ],
   "source": [
    "plot_tsne(current_Sample['Sentiment'], dim_Reduction = 'T-SNE') "
   ]
  },
  {
   "cell_type": "code",
   "execution_count": 28,
   "metadata": {},
   "outputs": [
    {
     "data": {
      "application/vnd.plotly.v1+json": {
       "config": {
        "plotlyServerURL": "https://plot.ly"
       },
       "data": [
        {
         "hovertemplate": "Sentiment=family_1<br>0=%{x}<br>1=%{y}<br>2=%{z}<extra></extra>",
         "legendgroup": "family_1",
         "marker": {
          "color": "#636efa",
          "size": 4,
          "symbol": "circle"
         },
         "mode": "markers",
         "name": "family_1",
         "scene": "scene",
         "showlegend": true,
         "type": "scatter3d",
         "x": [
          0.29401603159184725,
          0.237038367111602,
          0.2642257915553054,
          0.2277584645935353,
          0.27087214771351104,
          0.25235468760293983,
          0.2607948272593125,
          0.2587826018024591,
          0.27318221955465183,
          0.21220493667029164,
          0.24239245593384987,
          0.23109824138012283,
          0.2523977857326831,
          0.27435069001050355,
          0.2510446262843193,
          0.21972434281322345,
          0.2740667455382146,
          0.2223424216367241,
          0.2164410788636004,
          0.213709984235799,
          0.27003501767377486,
          0.2277584645935353,
          0.2164410788636004,
          0.2710847201354856,
          0.2826425589761947,
          0.2688869663206756,
          0.29091598386881395,
          0.2446799564162251,
          0.23351212440653482,
          0.28726011377013133,
          0.22834082983772772,
          0.28504912082634487,
          0.2356047298653515,
          0.2749438148423696,
          0.2184061035677147,
          0.2494772707842813,
          0.24541406821102196,
          0.2630562134772394,
          0.2698457462651795,
          0.2184061035677147,
          0.23732201249597226,
          0.2658643336944886,
          0.27095220771126827,
          0.2710847201354856,
          0.28124528869235343,
          0.2659308875419278,
          0.25118051302116484,
          0.27142233147127137,
          0.25242291465361627,
          0.26408718818835947,
          0.23740306590516594,
          0.2698457462651795,
          0.2638102012109831,
          0.23109824138012283,
          0.27404767413697895,
          0.2871788332073758,
          0.2164410788636004,
          0.23401544514959025,
          0.23722689711050743,
          0.28839815150401915,
          0.24356339307918579,
          0.23580559922909822,
          0.2336788207830307,
          0.201598951984581,
          0.24364932345904844,
          0.25645573886460044,
          0.2693063276032231,
          0.23362077135534945,
          0.27095220771126827,
          0.26307597623474227,
          0.2630562134772394,
          0.2871788332073758,
          0.2334706274441827,
          0.24010063462520834,
          0.23941417065782997,
          0.21235067610030423,
          0.27404767413697895,
          0.23521049152387338,
          0.26078859142905236,
          0.27474465185206154,
          0.23362077135534945,
          0.23941417065782997,
          0.247828955376698,
          0.24356339307918579,
          0.201598951984581,
          0.2871788332073758,
          0.25645573886460044
         ],
         "y": [
          -0.09462631490049955,
          -0.15310326799457838,
          -0.06341196166070404,
          -0.07854871699666884,
          -0.11689652286547562,
          -0.10012080662718933,
          -0.07104696081734282,
          -0.10720312153453765,
          -0.09629157771907683,
          -0.11077770306430854,
          -0.09537082947595486,
          -0.06555421628726649,
          -0.121874784902191,
          -0.11231740006086219,
          -0.15081040232944504,
          -0.08096620717249618,
          -0.13908297172023493,
          -0.13488588373403443,
          -0.15585990480593084,
          -0.11464663443234953,
          -0.07486302529634603,
          -0.07854871699666884,
          -0.15585990480593084,
          -0.11693680336253946,
          -0.14187967830889142,
          -0.12190587611118285,
          -0.11504165049654184,
          -0.0758984468787408,
          -0.11172654943527917,
          -0.11866718642607424,
          -0.08432525282100213,
          -0.13569362508461866,
          -0.14021595894866967,
          -0.11163116794240191,
          -0.14963226379143596,
          -0.0739561759242147,
          -0.08793045476353509,
          -0.10412515789455094,
          -0.11304019672620828,
          -0.14963226379143596,
          -0.15346186262695527,
          -0.12296235184396621,
          -0.0653222140228211,
          -0.11693680336253946,
          -0.10165610045154756,
          -0.1229527427239904,
          -0.15101154385917767,
          -0.12675612174362136,
          -0.13058693438267946,
          -0.07046528335142818,
          -0.15373659689458227,
          -0.11304019672620828,
          -0.063463828407275,
          -0.06555421628726649,
          -0.15397019125579353,
          -0.13996423685007678,
          -0.15585990480593084,
          -0.0933268712402465,
          -0.15353259258063426,
          -0.11225120515088227,
          -0.14892834808319438,
          -0.1405756674984873,
          -0.11303129811766462,
          -0.07253388857752939,
          -0.05240021935939818,
          -0.10719506338418372,
          -0.10351683076606813,
          -0.11184378487068998,
          -0.0653222140228211,
          -0.10412639388298502,
          -0.10412515789455094,
          -0.13996423685007678,
          -0.0933743352755702,
          -0.12596764161249174,
          -0.055732489621294075,
          -0.11062222780417547,
          -0.15397019125579353,
          -0.12578133371366343,
          -0.07111165818672487,
          -0.1114591689956368,
          -0.11184378487068998,
          -0.055732489621294075,
          -0.07538956941798297,
          -0.14892834808319438,
          -0.07253388857752939,
          -0.13996423685007678,
          -0.10719506338418372
         ],
         "z": [
          0.07757130317558633,
          0.02413283787475544,
          0.04520373639789372,
          0.012171680620951081,
          0.051987954998163784,
          0.052953990872162286,
          0.07567737904580428,
          0.0706920342148069,
          0.07887585436343131,
          -0.007331591137391261,
          0.0476308001946292,
          0.010679835696369771,
          0.04198471437589614,
          0.07080075558748171,
          0.03156503921169897,
          0.0031565944860552034,
          0.07770220596477685,
          -0.014678497143180739,
          -0.03726093121580501,
          -0.02738028255901757,
          0.09140715013149694,
          0.012171680620951081,
          -0.03726093121580501,
          0.052047988273747875,
          0.09887480257502737,
          0.03780058415967574,
          0.09327242173123546,
          0.0016085448852406878,
          -0.01959262046041447,
          0.07265416276140442,
          -0.012484253430069385,
          0.09524048684351234,
          0.01791349213498504,
          0.04657660572933681,
          -0.033511923575347095,
          0.005908152953715779,
          0.06294054137117597,
          0.05988946324483788,
          0.03455376360386072,
          -0.033511923575347095,
          -0.04562089140102029,
          0.031534122070961484,
          0.05712086883130826,
          0.052047988273747875,
          0.1042183056694023,
          0.031596150058652815,
          0.03152729705313032,
          0.05546065736020806,
          0.06908435104874525,
          0.0863147238311105,
          -0.045747581675849566,
          0.03455376360386072,
          0.04586642425648549,
          0.010679835696369771,
          0.06791838438468084,
          0.10622181062262685,
          -0.03726093121580501,
          0.010685523565758656,
          -0.045782747436466396,
          0.08778172253174187,
          0.04238977081153896,
          0.017863548449711983,
          -0.009155976284613664,
          -0.005428652257342402,
          0.0030217601540052977,
          -0.005164520445655911,
          0.08688393742172623,
          -0.019713493558231078,
          0.05712086883130826,
          0.05990317203501849,
          0.05988946324483788,
          0.10622181062262685,
          0.009367203228705082,
          -0.01901443740551023,
          0.0006161337344991239,
          -0.0071692248991013785,
          0.06791838438468084,
          -0.01382587029257935,
          0.07571704859769418,
          0.04661891408779215,
          -0.019713493558231078,
          0.0006161337344991239,
          0.004165495627519654,
          0.04238977081153896,
          -0.005428652257342402,
          0.10622181062262685,
          -0.005164520445655911
         ]
        },
        {
         "hovertemplate": "Sentiment=family_2<br>0=%{x}<br>1=%{y}<br>2=%{z}<extra></extra>",
         "legendgroup": "family_2",
         "marker": {
          "color": "#EF553B",
          "size": 4,
          "symbol": "circle"
         },
         "mode": "markers",
         "name": "family_2",
         "scene": "scene",
         "showlegend": true,
         "type": "scatter3d",
         "x": [
          0.01806880782248092,
          0.00998426181975996,
          0.10811891145619258,
          0.07530247084893708,
          0.024692141058918156,
          0.025418276205754705,
          0.03996456063175377,
          0.010951090465263354,
          0.049215395598396126,
          0.08070328979911696,
          0.01621670169956901,
          0.017913087038790083,
          0.10304918442438867,
          0.09841941280972967,
          0.07527971228944974,
          0.10451820929527166,
          0.10560973070923516,
          0.010978611285292648,
          0.10710624278342103,
          0.030556668212375085,
          0.08965605815330518,
          0.07583859569562913,
          0.10155940553997089,
          0.08310257304247719,
          0.02374001911901227,
          0.085901227498624,
          0.10710208164985825,
          0.08050927585555775,
          0.04615867191273778,
          -0.0011118922671665456,
          0.08420574736970242,
          -0.026698835103969067,
          0.004394239774450602,
          0.09820168137193308,
          0.10043564184248842,
          0.08584932360072953,
          0.004329582852407218,
          0.02490782836889024,
          0.022641906540143447,
          0.020235297326627315,
          0.10314354078298699,
          0.10163032656581127,
          0.024427420040329096,
          0.00632249523198566,
          0.026941318550384515,
          0.09142720839405814,
          0.08584932360072953,
          0.10560232324066261,
          0.004394239774450602,
          0.10044254094114147,
          0.019251509468839235,
          0.09977608126516095,
          -0.0011118922671665456,
          0.029440792507060585,
          0.09142720839405814,
          0.0375072488699136,
          0.10015768238150725,
          0.08964096446757903,
          -0.007728385118236002,
          0.024456823109898503,
          0.09005674561218545,
          0.04045241583959227,
          0.1065538008706675,
          0.11294045759485846,
          0.11257507424743969,
          0.04618527099674121,
          0.0687975481336836,
          0.024575577620876442,
          0.006153990832184303,
          0.09645823015585661,
          0.027866252489447598,
          0.10655033380877406,
          0.024309322224573226,
          0.10378900738537065,
          0.04614667553282387,
          0.07864255249753174,
          0.1064323549418228,
          0.08070328979911696,
          0.07862196134816837,
          0.1064323549418228,
          0.10015768238150725,
          -0.019874023355261904,
          0.10314354078298699,
          0.07636241261941204,
          0.010951090465263354,
          0.11257507424743969,
          0.085901227498624,
          0.07530247084893708,
          0.10304918442438867
         ],
         "y": [
          0.1400572709726553,
          0.13457118582251998,
          0.1537546055808253,
          0.06522148717555686,
          0.040709402809267985,
          0.0754900487664909,
          0.08958032186522447,
          0.1585960730593891,
          0.07833611375239005,
          0.15438785271161992,
          0.037390384691651714,
          0.14006205737703797,
          0.013336441330761381,
          0.0687076403166655,
          0.1900276723034337,
          0.13634679649580844,
          0.06611230544023683,
          0.15847439946952593,
          0.011035596300559981,
          0.14813073074388128,
          0.17642229663601217,
          0.042613892622754605,
          0.08054196186146512,
          0.15713204644400414,
          0.09590747547337061,
          0.13389059124228442,
          0.011156346304698098,
          0.05381775472963428,
          0.05787773133932061,
          0.06804662322817097,
          0.07625210675843487,
          -0.02136697269775424,
          -0.06183851325858564,
          0.0596172512763944,
          0.015219397828425152,
          -0.03435053753096294,
          -0.06170365850930565,
          0.040820152970679875,
          0.020776727424485452,
          -0.034182050084376796,
          0.0006498399146247269,
          -0.04052588117080616,
          -0.04133389134795148,
          0.11620449015133359,
          0.14696059679571366,
          0.13367577667575095,
          -0.03435053753096294,
          0.06612797731939221,
          -0.06183851325858564,
          0.015290495740369328,
          0.09077272131608588,
          0.10260353182187835,
          0.06804662322817097,
          0.07879141998826372,
          0.13367577667575095,
          0.10613586804353686,
          0.08133959065692645,
          0.17643433740012013,
          0.1056387266910907,
          0.09208374239475531,
          -0.02973662271236283,
          0.10081395678209365,
          0.14678579066420938,
          0.09330542327175674,
          0.07214387113952873,
          0.05784806862487891,
          0.17889143802372326,
          -0.0411906639684406,
          0.11642834673568149,
          0.09979775289034624,
          0.009343340674669305,
          0.14683751196635675,
          -0.029539616285177824,
          0.08454201592830336,
          0.057933446933491235,
          0.05988958548266095,
          0.11131958315630358,
          0.15438785271161992,
          0.042580271292323536,
          0.11131958315630358,
          0.08133959065692645,
          -0.027922716800772837,
          0.0006498399146247269,
          0.04316339609110351,
          0.1585960730593891,
          0.07214387113952873,
          0.13389059124228442,
          0.06522148717555686,
          0.013336441330761381
         ],
         "z": [
          -0.09285652996363915,
          -0.12337142589026766,
          0.012707268833040533,
          0.010903932936602101,
          -0.18146754645759153,
          -0.1482077717910644,
          -0.1327163508312893,
          -0.10393725630756234,
          -0.13304404039289278,
          0.017744191624896582,
          -0.11515470689600374,
          -0.09297411878339296,
          -0.05559428859338641,
          -0.06666998962428891,
          -0.022606508686686327,
          0.046980801878711856,
          -0.01764754007796306,
          -0.10378844183991211,
          -0.054035502724932856,
          -0.11434702286965806,
          -0.029339622091375007,
          -0.12141003146326208,
          -0.06140902343475227,
          0.012584821365399226,
          -0.072826448218824,
          0.023051377000968407,
          -0.05396212173681265,
          0.03023201359896957,
          -0.13702178818342273,
          -0.15410262146058085,
          0.015264278878836173,
          -0.13480185386920815,
          -0.2334335765312671,
          -0.06920785757072473,
          -0.11758338267122664,
          -0.04844010089513341,
          -0.23373722164323513,
          -0.18130244952401822,
          -0.190979171589825,
          -0.12149405992430166,
          -0.1233108341832462,
          -0.03846696557980472,
          -0.1268162396034252,
          -0.11791673557217681,
          -0.11926798793606028,
          -0.07407575325688233,
          -0.04844010089513341,
          -0.017677175671039155,
          -0.2334335765312671,
          -0.1176004257184431,
          -0.033511716616349004,
          -0.0830041958673697,
          -0.15410262146058085,
          -0.14553539348514172,
          -0.07407575325688233,
          -0.05725077226718108,
          -0.005387252196019354,
          -0.02930384055784692,
          -0.12705699897921513,
          -0.04101637500960327,
          -0.03605343676096833,
          -0.051926800368442674,
          0.04478594116710901,
          -0.016531763792813754,
          -0.021807076934536537,
          -0.13698199324981403,
          -0.024415205651248276,
          -0.12676379659144765,
          -0.1179487759748011,
          -0.07702832388948272,
          -0.20218596194021746,
          0.044836855614944146,
          -0.15358999177328386,
          -0.059568491948749094,
          -0.1369545029004142,
          0.01630545832813974,
          -0.047693756863238713,
          0.017744191624896582,
          -0.055751831768755096,
          -0.047693756863238713,
          -0.005387252196019354,
          -0.10712434657798107,
          -0.1233108341832462,
          -0.11407602570681534,
          -0.10393725630756234,
          -0.021807076934536537,
          0.023051377000968407,
          0.010903932936602101,
          -0.05559428859338641
         ]
        },
        {
         "hovertemplate": "Sentiment=family_3<br>0=%{x}<br>1=%{y}<br>2=%{z}<extra></extra>",
         "legendgroup": "family_3",
         "marker": {
          "color": "#00cc96",
          "size": 4,
          "symbol": "circle"
         },
         "mode": "markers",
         "name": "family_3",
         "scene": "scene",
         "showlegend": true,
         "type": "scatter3d",
         "x": [
          0.03359050292622251,
          -0.06818141751196402,
          -0.06142367859381507,
          0.052955851073891294,
          -0.07445682493848574,
          0.021047686063169663,
          0.01894343762077131,
          -0.036920508077222525,
          0.03454526375804229,
          0.04843063104359708,
          -0.04549702398451113,
          0.02131369842709796,
          -0.06424006361016138,
          -0.053761196912423606,
          -0.03960840054590984,
          -0.03605914492460177,
          0.027381375484776923,
          0.04270445334141594,
          -0.04487478355996671,
          0.02413364187803099,
          0.02131369842709796,
          0.032527090048566736,
          -0.06349236964432592,
          0.0070601427473666895,
          -0.04726578777993701,
          -0.03046000672186602,
          0.01886943917382801,
          0.03999333873485516,
          -0.06141062714353447,
          -0.06982784697498985,
          0.03454526375804229,
          -0.060193945041452715,
          -0.0447736930449225,
          0.023121298206253194,
          0.02347401315743773,
          -0.041688465250676564,
          0.022191653014472214,
          0.04270445334141594,
          0.03998671020115453,
          -0.08770621967990218,
          0.025433548983809937,
          0.04586188193132492,
          -0.07614518868316193,
          -0.03960840054590984,
          -0.0368528279693086,
          -0.060216618512897925,
          -0.03758723519523895,
          0.03043495397826945,
          -0.062367153909215337,
          -0.051952326272976634,
          -0.0368528279693086,
          -0.051952326272976634,
          -0.06103779007277313,
          -0.0447736930449225,
          -0.03610836780941123,
          0.03620575058825723,
          -0.06349236964432592,
          0.010388276444508694,
          -0.0546507614243108,
          0.047047684153486445,
          0.016789855720252482,
          -0.04021268726428548,
          -0.10741551292207593,
          -0.05347799498765297,
          -0.06424006361016138,
          -0.06536453941403214,
          0.026385631912141858,
          -0.04482449313354293,
          -0.08261172142517777,
          0.03043495397826945,
          0.02543158967836364,
          -0.07445682493848574,
          0.03043495397826945,
          0.00705324931822494,
          0.016771270463364383,
          -0.06021797699079629,
          -0.0479580606937934,
          0.033441233164034904,
          0.016789855720252482,
          0.0187608325351753,
          0.028618567413416958,
          0.03354235837086215,
          -0.06103779007277313,
          -0.033290098599286846,
          -0.07445682493848574,
          -0.0447736930449225,
          -0.04549702398451113,
          0.032527090048566736,
          0.023121298206253194,
          -0.04151001027311562,
          0.016217332322916955,
          -0.0447736930449225,
          0.01892819779077096,
          -0.041529688538925975,
          -0.05014703159109508,
          0.037853926393904905,
          -0.06103779007277313
         ],
         "y": [
          0.14166698743542713,
          0.0745878249200911,
          0.06214434094233523,
          0.1396146124828002,
          0.11688874612580621,
          0.22606509452380885,
          0.2117926340629044,
          0.19442747347201295,
          0.21688138997832365,
          0.13693959194791544,
          0.19405203315548866,
          0.19872968549415074,
          0.0954341769059487,
          0.051815235943423056,
          0.13140007204239393,
          0.1003562040659149,
          0.18061082815344995,
          0.11143793267100362,
          0.19660144838043053,
          0.20114227104269106,
          0.19872968549415074,
          0.18124323023759187,
          0.02781597127640005,
          0.24580578984185952,
          0.08079523442280934,
          0.08462062600301275,
          0.2533604876892031,
          0.10219882590589424,
          0.06217845091407711,
          0.14680055626635216,
          0.21688138997832365,
          0.1508159529779092,
          0.19056147783364522,
          0.21335169159646014,
          0.24828103990683958,
          0.19562153278733557,
          0.24834929154506516,
          0.11143793267100362,
          0.10216054738144588,
          0.0617742494220538,
          0.23724855191984545,
          0.11590767145359326,
          0.12058244738288602,
          0.13140007204239393,
          0.19462406386645914,
          0.059139055785573276,
          0.19500086066851222,
          0.17829194865978265,
          0.13407729332937673,
          0.15893373747821674,
          0.19462406386645914,
          0.15893373747821674,
          0.15135997470013934,
          0.19056147783364522,
          0.18881487699635244,
          0.17776928300650977,
          0.02781597127640005,
          0.23938889787789353,
          0.11978081341021113,
          0.1122048886831797,
          0.2407253996246093,
          0.10177970539879969,
          -0.0013075929398704755,
          0.1327480812161056,
          0.0954341769059487,
          0.0929229058202092,
          0.21492081040916317,
          0.1905640483628518,
          0.0261760497695118,
          0.17829194865978265,
          0.22969491412560025,
          0.11688874612580621,
          0.17829194865978265,
          0.24592016583091672,
          0.24066030936920285,
          0.1507718473531215,
          0.10218768923586077,
          0.18330612394667722,
          0.2407253996246093,
          0.25337067325958224,
          0.22428080183361557,
          0.1415664686283216,
          0.15135997470013934,
          0.17470860390736323,
          0.11688874612580621,
          0.19056147783364522,
          0.19405203315548866,
          0.18124323023759187,
          0.21335169159646014,
          0.1670878580820705,
          0.2411993407921836,
          0.19056147783364522,
          0.2118631080680836,
          0.167207044457936,
          0.17194934812495083,
          0.15895117471360848,
          0.15135997470013934
         ],
         "z": [
          -0.02175389610078206,
          -0.1345976564351426,
          -0.11397244578785304,
          -0.009943595840666427,
          -0.09124858207413392,
          0.017033177135243542,
          0.009669774028903434,
          -0.06968842185715696,
          0.01578488562006795,
          -0.009754048715359422,
          -0.053462476827489044,
          -0.000703298759050668,
          -0.11489382975711916,
          -0.07594442156368307,
          -0.12045384284169254,
          -0.08118938431796366,
          0.03180733316051209,
          0.0025870297142324924,
          -0.053998842354922826,
          0.02454613144172513,
          -0.000703298759050668,
          -0.0453777567992386,
          -0.09173139609068569,
          -0.012736898148074889,
          -0.07809944167530589,
          -0.07189620944676255,
          -0.012769172117989223,
          -0.023821481807512285,
          -0.1138418714632901,
          -0.08559151767531309,
          0.01578488562006795,
          -0.10142926072119579,
          -0.0465076876550845,
          -0.0006999307197468819,
          -0.013729068801601341,
          -0.07965701230960097,
          -0.021399841950758017,
          0.0025870297142324924,
          -0.023930928443292955,
          -0.14820533726306107,
          0.0056810537512362175,
          -0.009113764073462574,
          -0.08545671518730355,
          -0.12045384284169254,
          -0.0696378802614952,
          -0.10121173370299001,
          -0.08063400960646577,
          0.023866235194582225,
          -0.07519625758063574,
          -0.09619965869945014,
          -0.0696378802614952,
          -0.09619965869945014,
          -0.08149020274567281,
          -0.0465076876550845,
          -0.0581009735746815,
          -0.046239486943980994,
          -0.09173139609068569,
          0.0032348714353703724,
          -0.07100225035306856,
          -0.008287827673046522,
          0.005188354374325899,
          -0.08821572214424848,
          -0.1311352358589458,
          -0.12086832130881936,
          -0.11489382975711916,
          -0.13373543558620019,
          0.013774024200613215,
          -0.046430030916690714,
          -0.10833208803385228,
          0.023866235194582225,
          -0.0005999042435380994,
          -0.09124858207413392,
          0.023866235194582225,
          -0.01271436297229207,
          0.00513209765878134,
          -0.10151631210475995,
          -0.09723780200056766,
          -0.04074155101501004,
          0.005188354374325899,
          -0.012782801189259443,
          0.004985433154799841,
          -0.02163836963327834,
          -0.08149020274567281,
          -0.03838699296442076,
          -0.09124858207413392,
          -0.0465076876550845,
          -0.053462476827489044,
          -0.0453777567992386,
          -0.0006999307197468819,
          -0.049103553441425925,
          0.011627517086519896,
          -0.0465076876550845,
          0.009622423322659517,
          -0.049244630898945,
          -0.05259653981520644,
          -0.030076033515629687,
          -0.08149020274567281
         ]
        },
        {
         "hovertemplate": "Sentiment=family_4<br>0=%{x}<br>1=%{y}<br>2=%{z}<extra></extra>",
         "legendgroup": "family_4",
         "marker": {
          "color": "#ab63fa",
          "size": 4,
          "symbol": "circle"
         },
         "mode": "markers",
         "name": "family_4",
         "scene": "scene",
         "showlegend": true,
         "type": "scatter3d",
         "x": [
          -0.06770253408083321,
          -0.179946795033166,
          -0.2063673444927137,
          -0.16830483740586394,
          -0.17136127262601789,
          -0.09534931002886705,
          -0.06324808595957071,
          -0.1876438905010008,
          -0.19897331230338453,
          -0.1638085884741923,
          -0.19462861397044004,
          -0.09916102591983432,
          -0.06348325577722805,
          -0.16302684496656036,
          -0.22360942128040467,
          -0.20141798365456787,
          -0.18685041943587732,
          -0.1979474474749526,
          -0.10266304335428926,
          -0.06265674543387634,
          -0.09516266225620493,
          -0.25245720308599295,
          -0.05232073324172568,
          -0.2138459676785304,
          -0.1860428805160542,
          -0.0467082555366173,
          -0.21139839212013756,
          -0.08794052037534698,
          -0.06463990217436992,
          -0.1699831333131836,
          -0.06492176765647971,
          -0.05513381940796151,
          -0.20779826132698623,
          -0.23966845159033703,
          -0.18106139372489077,
          -0.06426177526086797,
          -0.2010846199272081,
          -0.2010846199272081,
          -0.07840666528678235,
          -0.22522855615473994,
          -0.06339986827698878,
          -0.24755835162023027,
          -0.06717914973373941,
          -0.22267426287859984,
          -0.1874808796089301,
          -0.06348325577722805,
          -0.18106870044152276,
          -0.19897331230338453,
          -0.23979088230389978,
          -0.0761364211735047,
          -0.10266304335428926,
          -0.22360942128040467,
          -0.05498066261290884,
          -0.22523962122849442,
          -0.1985548619678029,
          -0.1874808796089301,
          -0.21227502250663643,
          -0.21380981225305634,
          -0.1979474474749526,
          -0.07373113592908061,
          -0.18090010453173322,
          -0.21462408552749523,
          -0.07080484792626274,
          -0.16991476913782325,
          -0.08914101961666603,
          -0.17993824237212713,
          -0.22791206985348655,
          -0.1876514582288843,
          -0.20141798365456787,
          -0.21717290310526924,
          -0.07856757315701102,
          -0.20770117105299915,
          -0.15420672818629552,
          -0.18106139372489077,
          -0.18546769901404886,
          -0.17728902684050243,
          -0.20934800613200188,
          -0.09079988181102815,
          -0.21462408552749523,
          -0.05513381940796151,
          -0.18539405501302364,
          -0.21227502250663643,
          -0.04162499133554834,
          -0.08141312572912651,
          -0.15420672818629552,
          -0.18685041943587732
         ],
         "y": [
          -0.13688440284151576,
          -0.1483222485756084,
          -0.18795969796971598,
          -0.1755613364174896,
          -0.083059929434173,
          -0.11314681773310849,
          -0.1289739530532824,
          -0.14927657647798173,
          -0.16141300396393715,
          -0.13862388945584198,
          -0.11937927977162548,
          -0.0821329522711418,
          -0.026671605679861328,
          -0.14023266999143075,
          -0.1156272507311553,
          -0.1347421283375319,
          -0.19322959545047214,
          -0.15357755400071538,
          -0.06732071418432269,
          -0.06987156513107716,
          -0.11337999435540796,
          -0.223332698873787,
          -0.027647406490904955,
          -0.21775927453609842,
          -0.16661991543132812,
          -0.10762445345807446,
          -0.15037128121072194,
          -0.0866904493002135,
          -0.09392623493955217,
          -0.09227270360887763,
          -0.023345331137894765,
          -0.023137150647901374,
          -0.2139047771828056,
          -0.2252853454254514,
          -0.17247431587478199,
          -0.07571118175940554,
          -0.1441086092182627,
          -0.1441086092182627,
          -0.08161430725848522,
          -0.12432613283263129,
          -0.026744408878865065,
          -0.2235970194916449,
          -0.06789982516035033,
          -0.19736558667404366,
          -0.18794722348573475,
          -0.026671605679861328,
          -0.17236770763672507,
          -0.16141300396393715,
          -0.22529071606657777,
          -0.08164914222127344,
          -0.06732071418432269,
          -0.1156272507311553,
          -0.022890052430517265,
          -0.12431401343274348,
          -0.11159925667318735,
          -0.18794722348573475,
          -0.09552161108155427,
          -0.21772299423090508,
          -0.15357755400071538,
          -0.12318306457871836,
          -0.17248847340241524,
          -0.21153785131505295,
          -0.05757708523691771,
          -0.09237333644825356,
          -0.10434566235751856,
          -0.1481103429312464,
          -0.13255014140038857,
          -0.14916082124521204,
          -0.1347421283375319,
          -0.10804085454723517,
          -0.131130272925294,
          -0.21392853982572407,
          -0.15406242290893984,
          -0.17247431587478199,
          -0.11478429957880472,
          -0.09117958874786264,
          -0.20092083835123373,
          -0.07178790873992942,
          -0.21153785131505295,
          -0.023137150647901374,
          -0.11483254151953808,
          -0.09552161108155427,
          -0.11048124545397951,
          -0.13017216634959153,
          -0.15406242290893984,
          -0.19322959545047214
         ],
         "z": [
          -0.037985340652832385,
          -0.11879567752486649,
          -0.17064044558253394,
          -0.165026045590422,
          -0.04015786784001681,
          -0.0026877580469663086,
          -0.027030147971803923,
          -0.05721775759011631,
          -0.11762099930144922,
          -0.10318810486296484,
          -0.0907081657909446,
          0.05640646971264942,
          0.04320953956426216,
          -0.1246604064863315,
          -0.07648378130781304,
          -0.04539334462118222,
          -0.09607827353117,
          -0.12166782421692274,
          -0.005284157040463629,
          0.05218809761659494,
          -0.0026129926105609097,
          -0.1291530334991073,
          0.041515546200846284,
          -0.1129714651535123,
          -0.13545846533968706,
          -0.07129648778259298,
          -0.11942968370112081,
          0.05706493133088619,
          0.04008364242338757,
          -0.05115130855141776,
          0.058595754170446164,
          0.0554557460887795,
          -0.13841836272132926,
          -0.1264423273282962,
          -0.08287576228811469,
          0.05083503419126374,
          -0.11527812842760506,
          -0.11527812842760506,
          -0.035594593684380976,
          -0.08669746737039237,
          0.04303059162703459,
          -0.1340726700364544,
          0.061981694286760064,
          -0.16367160151616603,
          -0.16446698708775986,
          0.04320953956426216,
          -0.0829141180996093,
          -0.11762099930144922,
          -0.1265167471311754,
          -0.032730376838552414,
          -0.005284157040463629,
          -0.07648378130781304,
          0.05536100321096379,
          -0.0866809297002465,
          -0.07861445054383123,
          -0.16446698708775986,
          -0.05757758452007554,
          -0.11300930382183708,
          -0.12166782421692274,
          -0.017106486879487667,
          -0.08281594879975362,
          -0.1432979879248057,
          -0.007718143963919744,
          -0.051331020063565755,
          0.006273800662320189,
          -0.11890635853177091,
          -0.09657102696765446,
          -0.0571162166690362,
          -0.04539334462118222,
          -0.0627465909806128,
          -0.012355093368643799,
          -0.1384003198539976,
          -0.12820380535980128,
          -0.08287576228811469,
          -0.0692206050157922,
          -0.045820271949195364,
          -0.17034584481224874,
          -0.021572956002398756,
          -0.1432979879248057,
          0.0554557460887795,
          -0.06841884471209791,
          -0.05757758452007554,
          -0.06563570144868014,
          -0.006599189025385087,
          -0.12820380535980128,
          -0.09607827353117
         ]
        },
        {
         "hovertemplate": "Sentiment=family_5<br>0=%{x}<br>1=%{y}<br>2=%{z}<extra></extra>",
         "legendgroup": "family_5",
         "marker": {
          "color": "#FFA15A",
          "size": 4,
          "symbol": "circle"
         },
         "mode": "markers",
         "name": "family_5",
         "scene": "scene",
         "showlegend": true,
         "type": "scatter3d",
         "x": [
          -0.20451984933630607,
          -0.09373148468257622,
          -0.12287026808945044,
          -0.22699490123227897,
          -0.1800795053955214,
          -0.09708459506621135,
          -0.0933126413583129,
          -0.18821926465694905,
          -0.11062021077868771,
          -0.19428608772201908,
          -0.07608443583067807,
          -0.09129474684994954,
          -0.22755905211796434,
          -0.08543423412333498,
          -0.1077472540156598,
          -0.1800795053955214,
          -0.09943772793602089,
          -0.17877944806392998,
          -0.07661711825591896,
          -0.10448646221312628,
          -0.17387381415253428,
          -0.17786342997695512,
          -0.18385980297821275,
          -0.20852418957314417,
          -0.1288958521934118,
          -0.1077472540156598,
          -0.1124329978015349,
          -0.08733192714080845,
          -0.09720433757145593,
          -0.16023608670058567,
          -0.10449062755109556,
          -0.10637187174178465,
          -0.20560235799929955,
          -0.15275463391027397,
          -0.2340995082902046,
          -0.10633733867492319,
          -0.07327186127239772,
          -0.20100323744542,
          -0.10449062755109556,
          -0.1800795053955214,
          -0.08747043697297616,
          -0.23001266140278506,
          -0.2143864738769159,
          -0.11246808786290112,
          -0.21411310942774353,
          -0.07327186127239772,
          -0.18829742582869957,
          -0.11246730136818284,
          -0.19959389573203118,
          -0.18613365741514262,
          -0.12352472200458219,
          -0.18158800650676163,
          -0.18348899591538553,
          -0.23578993891949857,
          -0.09437414391216171,
          -0.09443151450331598,
          -0.11246808786290112,
          -0.11246808786290112,
          -0.20100323744542,
          -0.16602469824821997,
          -0.17875480286783757,
          -0.0837710677211141,
          -0.10292914705985941,
          -0.18348899591538553,
          -0.10449062755109556,
          -0.17975211254679302,
          -0.23582568776669677,
          -0.18144586194674242,
          -0.12352472200458219,
          -0.20852418957314417,
          -0.23023683792846508,
          -0.11289380018175445,
          -0.19706674480045228,
          -0.19946582613730848,
          -0.1235610759959516,
          -0.08946246306206125,
          -0.2182663444584013,
          -0.18502361263198877,
          -0.15615977029520953,
          -0.26635732162701664,
          -0.15615977029520953,
          -0.16742759357476425,
          -0.18128135494061284,
          -0.15275463391027397,
          -0.15484008921191814,
          -0.08991521615364387,
          -0.18829742582869957,
          -0.08543423412333498,
          -0.18613365741514262,
          -0.1444485447752889
         ],
         "y": [
          -0.0026782277979477864,
          0.0757983508540529,
          -0.04294897145719552,
          -0.10328601181364036,
          0.03783167959774065,
          0.044825349245259036,
          0.051183928133075964,
          -0.07845313679733328,
          0.056913065931578306,
          -0.008454889717454001,
          0.07602615774182947,
          -0.02165385137613893,
          -0.10275618595696732,
          0.10545232927979867,
          0.08854069011834016,
          0.03783167959774065,
          0.031589895793028344,
          -0.058880903287326584,
          0.09774728602999824,
          -0.028141662641281644,
          0.054162692992109185,
          0.037603426693325,
          -0.013988721338862115,
          -0.09807760683157271,
          -0.06818789527523372,
          0.08854069011834016,
          0.07615390089071171,
          -0.04146027364348579,
          0.04472830462962801,
          0.06452260649578372,
          -0.028138937083044775,
          0.09218042360811145,
          -0.08072710478347306,
          0.04715798442382739,
          -0.11580550338996264,
          0.0922556077420946,
          0.07247957503864438,
          -0.09093299628872764,
          -0.028138937083044775,
          0.03783167959774065,
          -0.04153536411994869,
          -0.10255186769016134,
          -0.1059791298053544,
          0.04357202384435166,
          -0.10680405815827698,
          0.07247957503864438,
          -0.07849784872267299,
          0.07606428426120569,
          0.0057760349658970795,
          -0.053778801363938054,
          -0.04370191339688195,
          -0.07478701502426105,
          -0.013864478747899952,
          -0.10865889517479907,
          -0.06388795619689376,
          -0.06392715553513309,
          0.04357202384435166,
          0.04357202384435166,
          -0.09093299628872764,
          0.05843933741011161,
          -0.05881955962563121,
          0.05694046288422805,
          -0.01997128681674603,
          -0.013864478747899952,
          -0.028138937083044775,
          0.006304507572973181,
          -0.12363682689500857,
          0.0032942340640665763,
          -0.04370191339688195,
          -0.09807760683157271,
          -0.08541873383635376,
          -0.031931276388047124,
          -0.061412903105252124,
          0.005833991962852204,
          -0.04374863205395946,
          -0.048784979411753214,
          -0.07811758176087037,
          -0.08144252037244061,
          0.04340061661658817,
          -0.17180884510106578,
          0.04340061661658817,
          -0.07273537789400839,
          0.0034645006546252513,
          0.04715798442382739,
          0.009281421783965517,
          0.09259624378326851,
          -0.07849784872267299,
          0.10545232927979867,
          -0.053778801363938054,
          0.021164377172824548
         ],
         "z": [
          0.10693121524034549,
          0.24221661326972782,
          0.20672744113735286,
          0.048313895594021404,
          0.14676284310981627,
          0.26097001141369325,
          0.23965595358324143,
          0.150639676637625,
          0.25370117300476375,
          0.1573068946518174,
          0.2251451119669928,
          0.2126443776858832,
          0.04759101314808199,
          0.2329765608736938,
          0.20506422576945063,
          0.14676284310981627,
          0.27126728838184555,
          0.1482992218393612,
          0.22073353843481294,
          0.24649068949181424,
          0.15093026457189235,
          0.15360376777180768,
          0.12345071769210961,
          0.12089816195318773,
          0.2156870967445615,
          0.20506422576945063,
          0.24431552165444298,
          0.235385838451994,
          0.26113877025838994,
          0.12728452224522357,
          0.24661806816648607,
          0.20624542653887926,
          0.09727634615145049,
          0.16818646152324684,
          0.07952096354436176,
          0.2062617857982262,
          0.22741401331436975,
          0.06484830435257034,
          0.24661806816648607,
          0.14676284310981627,
          0.23546720308048852,
          0.03848980125239951,
          0.1142794514088988,
          0.2566103288042354,
          0.11306157742035709,
          0.22741401331436975,
          0.15060910106990189,
          0.24438635054088298,
          0.10822711618135208,
          0.1487958405732417,
          0.20699173199997273,
          0.09703125463527656,
          0.12353748052943851,
          0.033357096683868215,
          0.2391875594229867,
          0.2391741989253953,
          0.2566103288042354,
          0.2566103288042354,
          0.06484830435257034,
          0.12132615250194984,
          0.14827110299298493,
          0.2605456580677211,
          0.20570622562223326,
          0.12353748052943851,
          0.24661806816648607,
          0.1622477754673634,
          0.08603291505775221,
          0.12155400769591776,
          0.20699173199997273,
          0.12089816195318773,
          0.061878041441755294,
          0.2463310579416424,
          0.13099035408579274,
          0.1083521601925934,
          0.20694887567184567,
          0.245038232590713,
          0.06904152518865639,
          0.15995380842581303,
          0.16527381739528058,
          0.04904335758755854,
          0.16527381739528058,
          0.11541237779047446,
          0.12178141053862224,
          0.16818646152324684,
          0.16048499773060343,
          0.243163651398868,
          0.15060910106990189,
          0.2329765608736938,
          0.1487958405732417,
          0.17027031942417595
         ]
        },
        {
         "hovertemplate": "Sentiment=family_12345<br>0=%{x}<br>1=%{y}<br>2=%{z}<extra></extra>",
         "legendgroup": "family_12345",
         "marker": {
          "color": "#19d3f3",
          "size": 4,
          "symbol": "circle"
         },
         "mode": "markers",
         "name": "family_12345",
         "scene": "scene",
         "showlegend": true,
         "type": "scatter3d",
         "x": [
          0.10207082336487526,
          -0.1728185633233571,
          -0.01877406394223303,
          -0.06472546728665533,
          -0.009666026397475986,
          0.04025875119257845,
          -0.15183469696697702,
          -0.11422474155040933,
          0.2336788207830307,
          0.22528928202300044,
          -0.03279653983920348,
          0.10305662950192515,
          -0.004186060593505548,
          0.12628020550284413,
          -0.080624267245339,
          -0.009231921992846788,
          -0.0505062896320839,
          -0.020850021144710795,
          0.13994990846652217,
          0.11088668769563961,
          -0.10030700524392189,
          -0.07515741725306292,
          -0.09146398126674059,
          -0.11596145444298105,
          -0.10116011441324746,
          -0.07574755325837425,
          -0.10448863320287896,
          0.14642327088205287,
          -0.15569303250249425,
          0.13206670257831138,
          0.0203994016944586,
          0.13687895790388166,
          0.08824953043843821,
          0.23428757710270148,
          -0.10930521409468273,
          0.16248867269561065,
          0.22986457757788498,
          -0.05232850450629978,
          0.2087237107709917,
          0.013348455830242915,
          -0.04507013600718959,
          -0.08836690790937225,
          -0.036618885586074616,
          -0.05089439702287319,
          0.19224953773088332,
          0.12084089850927526,
          -0.15732138077780425,
          0.03836240551560726,
          0.04003114382036791,
          0.1050874803320149,
          -0.11907093981166796,
          0.168147874486699,
          -0.12240816960182618,
          0.07305880666799963,
          0.19597692978637404,
          -0.030681179554457275,
          -0.1021089384507862,
          0.21278637728871325,
          -0.03599640338493718,
          -0.04828640475415171,
          0.11970783105911027,
          -0.06750455149497175,
          -0.07905894019803002,
          0.10771525219980896,
          0.0977214525017263,
          0.09290042624859501,
          -0.07090615986028363,
          -0.1604759661010385,
          -0.03607080248622425,
          -0.14537442162472788,
          0.2510446262843193,
          -0.03418389290797566,
          0.034918268460650916,
          0.008426709955891036,
          -0.1348953750154668,
          0.22701281494824369,
          0.022968337641557004,
          0.10172879710969039,
          0.16528964600964657,
          -0.1379017883552369,
          -0.17628781328945567,
          -0.040341161773269886,
          0.14640199787660532,
          -0.11678271598091329,
          -0.20079817414318535,
          0.06534342902242547,
          -0.08177235190934863,
          -0.05201703122437727,
          0.09412896738853274,
          0.07863122170955707,
          0.08978372467198537
         ],
         "y": [
          0.007007873666902682,
          0.017547977716385606,
          0.045155194908247674,
          0.10694272321630882,
          -0.08565436223282384,
          0.11930678827740938,
          0.0015550285256068063,
          0.05580534567438548,
          -0.11303129811766462,
          -0.0635804766257568,
          0.01798068083782167,
          -0.09646754155123977,
          -0.03563595521119312,
          0.03912271374027737,
          -0.009262260313652232,
          0.05774592687273558,
          -0.10549360593161942,
          0.05942344737234861,
          -0.05303674528568876,
          -0.04345282504945987,
          0.10908932996622993,
          0.16193574859790677,
          0.06250950622469882,
          -0.07059000050383926,
          0.11881718884030405,
          -0.006149450659502389,
          0.062022388543907625,
          -0.05660074623174646,
          0.008876794086350719,
          -0.007000247915034885,
          0.12872785763254646,
          0.02867366773371244,
          -0.1257769406169003,
          -0.08934709800661518,
          -0.0479799416445841,
          -0.08382376485104415,
          -0.04303157971991703,
          0.04026292070919876,
          -0.09315075912907644,
          0.05545600903007768,
          0.14211244802844678,
          -0.07930463915110761,
          0.09721792217896275,
          0.1716168010384984,
          0.021026878951146064,
          0.0271514806040952,
          -0.017219031216898606,
          -0.08858750790703357,
          -0.026176898995237275,
          0.015529532581973484,
          0.020346909069936657,
          0.08469811647785755,
          -0.054777170960964995,
          0.07577048974154231,
          -0.04551209690217904,
          0.0751613671643495,
          0.001261911096880474,
          -0.13296268621582902,
          -0.0002690962699032305,
          -0.0809259681829525,
          0.060393308871237096,
          0.06798751790111317,
          0.04917792039103499,
          -0.07795686271383011,
          0.010210196302265075,
          0.13867836557928376,
          0.1799867510891468,
          -0.009731512074767057,
          0.014303155952540487,
          0.01719018616394418,
          -0.15081040232944504,
          0.018108807598682407,
          0.1494550105497663,
          -0.12228615157623007,
          -0.1563640308996069,
          -0.0903463205783143,
          0.058577982489004365,
          0.08174788465067394,
          0.007366054888130217,
          -0.03939515186545434,
          -0.11748796359717777,
          -0.07349414665281248,
          -0.03655023181715019,
          -0.03611974854537877,
          -0.11337799004788175,
          -0.11044450199053794,
          -0.12345090672484586,
          -0.09767648056193916,
          -0.09160717137628703,
          0.07610904071396128,
          0.12090813540606248
         ],
         "z": [
          -0.09457839068188138,
          -0.08456151433983695,
          0.08461822534433742,
          0.18822094247136192,
          -0.1021848393242294,
          -0.040414729253374575,
          -0.06021115769844917,
          -0.07539194120004807,
          -0.009155976284613664,
          0.07272734894457668,
          -0.09666801403120728,
          -0.055414769238048736,
          -0.0376972424159653,
          0.02159798033478591,
          -0.1661394616027706,
          0.11710768488977637,
          -0.03769765213172895,
          0.04073999702877335,
          -0.05852610802336733,
          -0.046026050293257376,
          0.01558693417908342,
          -0.017461050740719186,
          0.24966667285574354,
          -0.07386628856009907,
          -0.04021714101835671,
          0.13841809549009287,
          -0.04118160186031474,
          -0.08502301827604311,
          -0.09629733259951426,
          0.024278451484121402,
          0.0012318190894192822,
          0.17170659707672178,
          -0.0931326518054712,
          -0.011456220948998038,
          0.07505345110771797,
          -0.055326821063397376,
          -0.026409672625158174,
          0.04177477152112364,
          0.010766033569886053,
          -0.08682611770297625,
          0.09125026005686744,
          0.04245360996671592,
          0.050577051580675915,
          0.08377457865679983,
          0.015156562419856405,
          0.018136958023696838,
          -0.13417004618547987,
          0.07361611059972453,
          -0.028702683741206603,
          -0.0180490270569642,
          -0.11893493975368989,
          -0.009001376135445181,
          -0.15106935253083367,
          -0.062277146648186656,
          0.03446395234605121,
          -0.11560837294481162,
          -0.062332202770249645,
          0.09580313002359915,
          -0.08370236646305397,
          -0.07721730031640008,
          -0.07993865304563101,
          -0.15745612201286682,
          0.14906066037811444,
          0.019407352715276133,
          0.002961846457458139,
          0.004467178305425896,
          -0.013930910156548489,
          -0.09240172126054598,
          -0.09392666383975125,
          -0.026388539622956314,
          0.03156503921169897,
          0.07856932781443864,
          -0.0002956552244505186,
          0.05763824460582891,
          -0.18105118670750228,
          -0.010602596788106346,
          -0.07717269128744758,
          -0.06540427675247566,
          0.07440185664691823,
          0.005363916024308479,
          -0.12961939774894268,
          -0.015257592357893576,
          -0.0032095112080983788,
          -0.030832209457672254,
          -0.02778528124709393,
          -0.010501389525428348,
          -0.0460933251203601,
          0.05081684174813809,
          0.02101974864881257,
          0.14952880888708742,
          -0.06959970216825835
         ]
        }
       ],
       "layout": {
        "legend": {
         "title": {
          "text": "Sentiment"
         },
         "tracegroupgap": 0
        },
        "margin": {
         "t": 60
        },
        "scene": {
         "domain": {
          "x": [
           0,
           1
          ],
          "y": [
           0,
           1
          ]
         },
         "xaxis": {
          "title": {
           "text": "0"
          }
         },
         "yaxis": {
          "title": {
           "text": "1"
          }
         },
         "zaxis": {
          "title": {
           "text": "2"
          }
         }
        },
        "template": {
         "data": {
          "bar": [
           {
            "error_x": {
             "color": "#2a3f5f"
            },
            "error_y": {
             "color": "#2a3f5f"
            },
            "marker": {
             "line": {
              "color": "#E5ECF6",
              "width": 0.5
             },
             "pattern": {
              "fillmode": "overlay",
              "size": 10,
              "solidity": 0.2
             }
            },
            "type": "bar"
           }
          ],
          "barpolar": [
           {
            "marker": {
             "line": {
              "color": "#E5ECF6",
              "width": 0.5
             },
             "pattern": {
              "fillmode": "overlay",
              "size": 10,
              "solidity": 0.2
             }
            },
            "type": "barpolar"
           }
          ],
          "carpet": [
           {
            "aaxis": {
             "endlinecolor": "#2a3f5f",
             "gridcolor": "white",
             "linecolor": "white",
             "minorgridcolor": "white",
             "startlinecolor": "#2a3f5f"
            },
            "baxis": {
             "endlinecolor": "#2a3f5f",
             "gridcolor": "white",
             "linecolor": "white",
             "minorgridcolor": "white",
             "startlinecolor": "#2a3f5f"
            },
            "type": "carpet"
           }
          ],
          "choropleth": [
           {
            "colorbar": {
             "outlinewidth": 0,
             "ticks": ""
            },
            "type": "choropleth"
           }
          ],
          "contour": [
           {
            "colorbar": {
             "outlinewidth": 0,
             "ticks": ""
            },
            "colorscale": [
             [
              0,
              "#0d0887"
             ],
             [
              0.1111111111111111,
              "#46039f"
             ],
             [
              0.2222222222222222,
              "#7201a8"
             ],
             [
              0.3333333333333333,
              "#9c179e"
             ],
             [
              0.4444444444444444,
              "#bd3786"
             ],
             [
              0.5555555555555556,
              "#d8576b"
             ],
             [
              0.6666666666666666,
              "#ed7953"
             ],
             [
              0.7777777777777778,
              "#fb9f3a"
             ],
             [
              0.8888888888888888,
              "#fdca26"
             ],
             [
              1,
              "#f0f921"
             ]
            ],
            "type": "contour"
           }
          ],
          "contourcarpet": [
           {
            "colorbar": {
             "outlinewidth": 0,
             "ticks": ""
            },
            "type": "contourcarpet"
           }
          ],
          "heatmap": [
           {
            "colorbar": {
             "outlinewidth": 0,
             "ticks": ""
            },
            "colorscale": [
             [
              0,
              "#0d0887"
             ],
             [
              0.1111111111111111,
              "#46039f"
             ],
             [
              0.2222222222222222,
              "#7201a8"
             ],
             [
              0.3333333333333333,
              "#9c179e"
             ],
             [
              0.4444444444444444,
              "#bd3786"
             ],
             [
              0.5555555555555556,
              "#d8576b"
             ],
             [
              0.6666666666666666,
              "#ed7953"
             ],
             [
              0.7777777777777778,
              "#fb9f3a"
             ],
             [
              0.8888888888888888,
              "#fdca26"
             ],
             [
              1,
              "#f0f921"
             ]
            ],
            "type": "heatmap"
           }
          ],
          "heatmapgl": [
           {
            "colorbar": {
             "outlinewidth": 0,
             "ticks": ""
            },
            "colorscale": [
             [
              0,
              "#0d0887"
             ],
             [
              0.1111111111111111,
              "#46039f"
             ],
             [
              0.2222222222222222,
              "#7201a8"
             ],
             [
              0.3333333333333333,
              "#9c179e"
             ],
             [
              0.4444444444444444,
              "#bd3786"
             ],
             [
              0.5555555555555556,
              "#d8576b"
             ],
             [
              0.6666666666666666,
              "#ed7953"
             ],
             [
              0.7777777777777778,
              "#fb9f3a"
             ],
             [
              0.8888888888888888,
              "#fdca26"
             ],
             [
              1,
              "#f0f921"
             ]
            ],
            "type": "heatmapgl"
           }
          ],
          "histogram": [
           {
            "marker": {
             "pattern": {
              "fillmode": "overlay",
              "size": 10,
              "solidity": 0.2
             }
            },
            "type": "histogram"
           }
          ],
          "histogram2d": [
           {
            "colorbar": {
             "outlinewidth": 0,
             "ticks": ""
            },
            "colorscale": [
             [
              0,
              "#0d0887"
             ],
             [
              0.1111111111111111,
              "#46039f"
             ],
             [
              0.2222222222222222,
              "#7201a8"
             ],
             [
              0.3333333333333333,
              "#9c179e"
             ],
             [
              0.4444444444444444,
              "#bd3786"
             ],
             [
              0.5555555555555556,
              "#d8576b"
             ],
             [
              0.6666666666666666,
              "#ed7953"
             ],
             [
              0.7777777777777778,
              "#fb9f3a"
             ],
             [
              0.8888888888888888,
              "#fdca26"
             ],
             [
              1,
              "#f0f921"
             ]
            ],
            "type": "histogram2d"
           }
          ],
          "histogram2dcontour": [
           {
            "colorbar": {
             "outlinewidth": 0,
             "ticks": ""
            },
            "colorscale": [
             [
              0,
              "#0d0887"
             ],
             [
              0.1111111111111111,
              "#46039f"
             ],
             [
              0.2222222222222222,
              "#7201a8"
             ],
             [
              0.3333333333333333,
              "#9c179e"
             ],
             [
              0.4444444444444444,
              "#bd3786"
             ],
             [
              0.5555555555555556,
              "#d8576b"
             ],
             [
              0.6666666666666666,
              "#ed7953"
             ],
             [
              0.7777777777777778,
              "#fb9f3a"
             ],
             [
              0.8888888888888888,
              "#fdca26"
             ],
             [
              1,
              "#f0f921"
             ]
            ],
            "type": "histogram2dcontour"
           }
          ],
          "mesh3d": [
           {
            "colorbar": {
             "outlinewidth": 0,
             "ticks": ""
            },
            "type": "mesh3d"
           }
          ],
          "parcoords": [
           {
            "line": {
             "colorbar": {
              "outlinewidth": 0,
              "ticks": ""
             }
            },
            "type": "parcoords"
           }
          ],
          "pie": [
           {
            "automargin": true,
            "type": "pie"
           }
          ],
          "scatter": [
           {
            "fillpattern": {
             "fillmode": "overlay",
             "size": 10,
             "solidity": 0.2
            },
            "type": "scatter"
           }
          ],
          "scatter3d": [
           {
            "line": {
             "colorbar": {
              "outlinewidth": 0,
              "ticks": ""
             }
            },
            "marker": {
             "colorbar": {
              "outlinewidth": 0,
              "ticks": ""
             }
            },
            "type": "scatter3d"
           }
          ],
          "scattercarpet": [
           {
            "marker": {
             "colorbar": {
              "outlinewidth": 0,
              "ticks": ""
             }
            },
            "type": "scattercarpet"
           }
          ],
          "scattergeo": [
           {
            "marker": {
             "colorbar": {
              "outlinewidth": 0,
              "ticks": ""
             }
            },
            "type": "scattergeo"
           }
          ],
          "scattergl": [
           {
            "marker": {
             "colorbar": {
              "outlinewidth": 0,
              "ticks": ""
             }
            },
            "type": "scattergl"
           }
          ],
          "scattermapbox": [
           {
            "marker": {
             "colorbar": {
              "outlinewidth": 0,
              "ticks": ""
             }
            },
            "type": "scattermapbox"
           }
          ],
          "scatterpolar": [
           {
            "marker": {
             "colorbar": {
              "outlinewidth": 0,
              "ticks": ""
             }
            },
            "type": "scatterpolar"
           }
          ],
          "scatterpolargl": [
           {
            "marker": {
             "colorbar": {
              "outlinewidth": 0,
              "ticks": ""
             }
            },
            "type": "scatterpolargl"
           }
          ],
          "scatterternary": [
           {
            "marker": {
             "colorbar": {
              "outlinewidth": 0,
              "ticks": ""
             }
            },
            "type": "scatterternary"
           }
          ],
          "surface": [
           {
            "colorbar": {
             "outlinewidth": 0,
             "ticks": ""
            },
            "colorscale": [
             [
              0,
              "#0d0887"
             ],
             [
              0.1111111111111111,
              "#46039f"
             ],
             [
              0.2222222222222222,
              "#7201a8"
             ],
             [
              0.3333333333333333,
              "#9c179e"
             ],
             [
              0.4444444444444444,
              "#bd3786"
             ],
             [
              0.5555555555555556,
              "#d8576b"
             ],
             [
              0.6666666666666666,
              "#ed7953"
             ],
             [
              0.7777777777777778,
              "#fb9f3a"
             ],
             [
              0.8888888888888888,
              "#fdca26"
             ],
             [
              1,
              "#f0f921"
             ]
            ],
            "type": "surface"
           }
          ],
          "table": [
           {
            "cells": {
             "fill": {
              "color": "#EBF0F8"
             },
             "line": {
              "color": "white"
             }
            },
            "header": {
             "fill": {
              "color": "#C8D4E3"
             },
             "line": {
              "color": "white"
             }
            },
            "type": "table"
           }
          ]
         },
         "layout": {
          "annotationdefaults": {
           "arrowcolor": "#2a3f5f",
           "arrowhead": 0,
           "arrowwidth": 1
          },
          "autotypenumbers": "strict",
          "coloraxis": {
           "colorbar": {
            "outlinewidth": 0,
            "ticks": ""
           }
          },
          "colorscale": {
           "diverging": [
            [
             0,
             "#8e0152"
            ],
            [
             0.1,
             "#c51b7d"
            ],
            [
             0.2,
             "#de77ae"
            ],
            [
             0.3,
             "#f1b6da"
            ],
            [
             0.4,
             "#fde0ef"
            ],
            [
             0.5,
             "#f7f7f7"
            ],
            [
             0.6,
             "#e6f5d0"
            ],
            [
             0.7,
             "#b8e186"
            ],
            [
             0.8,
             "#7fbc41"
            ],
            [
             0.9,
             "#4d9221"
            ],
            [
             1,
             "#276419"
            ]
           ],
           "sequential": [
            [
             0,
             "#0d0887"
            ],
            [
             0.1111111111111111,
             "#46039f"
            ],
            [
             0.2222222222222222,
             "#7201a8"
            ],
            [
             0.3333333333333333,
             "#9c179e"
            ],
            [
             0.4444444444444444,
             "#bd3786"
            ],
            [
             0.5555555555555556,
             "#d8576b"
            ],
            [
             0.6666666666666666,
             "#ed7953"
            ],
            [
             0.7777777777777778,
             "#fb9f3a"
            ],
            [
             0.8888888888888888,
             "#fdca26"
            ],
            [
             1,
             "#f0f921"
            ]
           ],
           "sequentialminus": [
            [
             0,
             "#0d0887"
            ],
            [
             0.1111111111111111,
             "#46039f"
            ],
            [
             0.2222222222222222,
             "#7201a8"
            ],
            [
             0.3333333333333333,
             "#9c179e"
            ],
            [
             0.4444444444444444,
             "#bd3786"
            ],
            [
             0.5555555555555556,
             "#d8576b"
            ],
            [
             0.6666666666666666,
             "#ed7953"
            ],
            [
             0.7777777777777778,
             "#fb9f3a"
            ],
            [
             0.8888888888888888,
             "#fdca26"
            ],
            [
             1,
             "#f0f921"
            ]
           ]
          },
          "colorway": [
           "#636efa",
           "#EF553B",
           "#00cc96",
           "#ab63fa",
           "#FFA15A",
           "#19d3f3",
           "#FF6692",
           "#B6E880",
           "#FF97FF",
           "#FECB52"
          ],
          "font": {
           "color": "#2a3f5f"
          },
          "geo": {
           "bgcolor": "white",
           "lakecolor": "white",
           "landcolor": "#E5ECF6",
           "showlakes": true,
           "showland": true,
           "subunitcolor": "white"
          },
          "hoverlabel": {
           "align": "left"
          },
          "hovermode": "closest",
          "mapbox": {
           "style": "light"
          },
          "paper_bgcolor": "white",
          "plot_bgcolor": "#E5ECF6",
          "polar": {
           "angularaxis": {
            "gridcolor": "white",
            "linecolor": "white",
            "ticks": ""
           },
           "bgcolor": "#E5ECF6",
           "radialaxis": {
            "gridcolor": "white",
            "linecolor": "white",
            "ticks": ""
           }
          },
          "scene": {
           "xaxis": {
            "backgroundcolor": "#E5ECF6",
            "gridcolor": "white",
            "gridwidth": 2,
            "linecolor": "white",
            "showbackground": true,
            "ticks": "",
            "zerolinecolor": "white"
           },
           "yaxis": {
            "backgroundcolor": "#E5ECF6",
            "gridcolor": "white",
            "gridwidth": 2,
            "linecolor": "white",
            "showbackground": true,
            "ticks": "",
            "zerolinecolor": "white"
           },
           "zaxis": {
            "backgroundcolor": "#E5ECF6",
            "gridcolor": "white",
            "gridwidth": 2,
            "linecolor": "white",
            "showbackground": true,
            "ticks": "",
            "zerolinecolor": "white"
           }
          },
          "shapedefaults": {
           "line": {
            "color": "#2a3f5f"
           }
          },
          "ternary": {
           "aaxis": {
            "gridcolor": "white",
            "linecolor": "white",
            "ticks": ""
           },
           "baxis": {
            "gridcolor": "white",
            "linecolor": "white",
            "ticks": ""
           },
           "bgcolor": "#E5ECF6",
           "caxis": {
            "gridcolor": "white",
            "linecolor": "white",
            "ticks": ""
           }
          },
          "title": {
           "x": 0.05
          },
          "xaxis": {
           "automargin": true,
           "gridcolor": "white",
           "linecolor": "white",
           "ticks": "",
           "title": {
            "standoff": 15
           },
           "zerolinecolor": "white",
           "zerolinewidth": 2
          },
          "yaxis": {
           "automargin": true,
           "gridcolor": "white",
           "linecolor": "white",
           "ticks": "",
           "title": {
            "standoff": 15
           },
           "zerolinecolor": "white",
           "zerolinewidth": 2
          }
         }
        },
        "title": {
         "text": "PCA for Matrix 1"
        }
       }
      }
     },
     "metadata": {},
     "output_type": "display_data"
    }
   ],
   "source": [
    "plot_tsne(current_Sample['Sentiment'], dim_Reduction = 'PCA') "
   ]
  },
  {
   "cell_type": "markdown",
   "metadata": {},
   "source": [
    "---\n",
    "#### `ML` "
   ]
  },
  {
   "cell_type": "markdown",
   "metadata": {},
   "source": [
    "##### `Train Test Split`"
   ]
  },
  {
   "cell_type": "code",
   "execution_count": 31,
   "metadata": {},
   "outputs": [],
   "source": [
    "from sklearn.model_selection import train_test_split\n",
    "\n",
    "X_train, X_test, y_train, y_test = train_test_split(\n",
    "    list(current_Sample.embedding.values),\n",
    "    current_Sample.Score,\n",
    "    test_size = 0.2,\n",
    "    random_state=42\n",
    ") "
   ]
  },
  {
   "cell_type": "markdown",
   "metadata": {},
   "source": [
    "##### `ML Models`"
   ]
  },
  {
   "cell_type": "code",
   "execution_count": 32,
   "metadata": {},
   "outputs": [],
   "source": [
    "from sklearn.ensemble import RandomForestClassifier, GradientBoostingClassifier\n",
    "from sklearn.svm import SVC\n",
    "from sklearn.metrics import accuracy_score, mean_squared_error, mean_absolute_error\n",
    "\n",
    "# Gradient Boosting\n",
    "gb = GradientBoostingClassifier(n_estimators=100)\n",
    "gb.fit(X_train, y_train)\n",
    "gb_preds = gb.predict(X_test)\n",
    "gb_accuracy = accuracy_score(y_test, gb_preds)\n",
    "gb_mse = mean_squared_error(y_test, gb_preds)\n",
    "gb_mae = mean_absolute_error(y_test, gb_preds)\n",
    "\n",
    "\n",
    "# SVM_Linear\n",
    "svm_Linear = SVC(kernel='linear')\n",
    "svm_Linear.fit(X_train, y_train)\n",
    "svm_Linear_preds = svm_Linear.predict(X_test)\n",
    "svm_Linear_accuracy = accuracy_score(y_test, svm_Linear_preds)\n",
    "svm_Linear_mse = mean_squared_error(y_test, svm_Linear_preds)\n",
    "svm_Linear_mae = mean_absolute_error(y_test, svm_Linear_preds)\n",
    "\n",
    "\n",
    "# SVM_Rbf\n",
    "svm_Rbf = SVC(kernel='linear')\n",
    "svm_Rbf.fit(X_train, y_train)\n",
    "svm_Rbf_preds = svm_Rbf.predict(X_test)\n",
    "svm_Rbf_accuracy = accuracy_score(y_test, svm_Rbf_preds)\n",
    "svm_Rbf_mse = mean_squared_error(y_test, svm_Rbf_preds)\n",
    "svm_Rbf_mae = mean_absolute_error(y_test, svm_Rbf_preds)\n",
    "\n",
    "\n",
    "# Random Forest\n",
    "rf = RandomForestClassifier(n_estimators=100)\n",
    "rf.fit(X_train, y_train)\n",
    "rf_preds = rf.predict(X_test)\n",
    "rf_accuracy = accuracy_score(y_test, rf_preds)\n",
    "rf_mse = mean_squared_error(y_test, rf_preds)\n",
    "rf_mae = mean_absolute_error(y_test, rf_preds)\n"
   ]
  },
  {
   "cell_type": "markdown",
   "metadata": {},
   "source": [
    "##### `Results`"
   ]
  },
  {
   "cell_type": "code",
   "execution_count": 33,
   "metadata": {},
   "outputs": [
    {
     "data": {
      "text/plain": [
       "\"Accuracy:\\n\\nIt measures the proportion of correct predictions in the total predictions made.\\nIt's a direct reflection of the model's capability to correctly classify or predict the outcomes.\\nHowever, accuracy can be misleading in imbalanced datasets.\\nMean Squared Error (MSE):\\n\\nIt measures the average squared difference between the estimated values and the actual value.\\nA lower MSE indicates a better fit of the model to the data.\\nIt penalizes larger errors more than smaller ones, meaning larger errors are seen as more significant.\\nMean Absolute Error (MAE):\\n\\nIt measures the average absolute difference between the estimated values and the actual value.\\nUnlike MSE, it treats all errors equally, meaning it doesn't penalize larger errors more than smaller ones.\\nIt provides a linear penalty for each unit of difference between the predicted and actual values.\""
      ]
     },
     "execution_count": 33,
     "metadata": {},
     "output_type": "execute_result"
    }
   ],
   "source": [
    "\"\"\"Accuracy:\n",
    "\n",
    "It measures the proportion of correct predictions in the total predictions made.\n",
    "It's a direct reflection of the model's capability to correctly classify or predict the outcomes.\n",
    "However, accuracy can be misleading in imbalanced datasets.\n",
    "Mean Squared Error (MSE):\n",
    "\n",
    "It measures the average squared difference between the estimated values and the actual value.\n",
    "A lower MSE indicates a better fit of the model to the data.\n",
    "It penalizes larger errors more than smaller ones, meaning larger errors are seen as more significant.\n",
    "Mean Absolute Error (MAE):\n",
    "\n",
    "It measures the average absolute difference between the estimated values and the actual value.\n",
    "Unlike MSE, it treats all errors equally, meaning it doesn't penalize larger errors more than smaller ones.\n",
    "It provides a linear penalty for each unit of difference between the predicted and actual values.\"\"\""
   ]
  },
  {
   "cell_type": "code",
   "execution_count": 34,
   "metadata": {},
   "outputs": [
    {
     "name": "stdout",
     "output_type": "stream",
     "text": [
      "Gradient Boosting - Accuracy: 0.91, MSE: 0.31, MAE: 0.16\n",
      "SVM - Accuracy: 0.89, MSE: 0.45, MAE: 0.19\n",
      "SVM - Accuracy: 0.89, MSE: 0.45, MAE: 0.19\n",
      "Random Forest - Accuracy: 0.89, MSE: 0.53, MAE: 0.21\n"
     ]
    }
   ],
   "source": [
    "\n",
    "print(f\"Gradient Boosting - Accuracy: {gb_accuracy:.2f}, MSE: {gb_mse:.2f}, MAE: {gb_mae:.2f}\")\n",
    "print(f\"SVM - Accuracy: {svm_Linear_accuracy:.2f}, MSE: {svm_Linear_mse:.2f}, MAE: {svm_Linear_mae:.2f}\")\n",
    "print(f\"SVM - Accuracy: {svm_Rbf_accuracy:.2f}, MSE: {svm_Rbf_mse:.2f}, MAE: {svm_Rbf_mae:.2f}\")\n",
    "print(f\"Random Forest - Accuracy: {rf_accuracy:.2f}, MSE: {rf_mse:.2f}, MAE: {rf_mae:.2f}\")"
   ]
  },
  {
   "cell_type": "markdown",
   "metadata": {},
   "source": [
    "#### `Discussion`\n",
    "TO DO "
   ]
  }
 ],
 "metadata": {
  "kernelspec": {
   "display_name": "venv",
   "language": "python",
   "name": "python3"
  },
  "language_info": {
   "codemirror_mode": {
    "name": "ipython",
    "version": 3
   },
   "file_extension": ".py",
   "mimetype": "text/x-python",
   "name": "python",
   "nbconvert_exporter": "python",
   "pygments_lexer": "ipython3",
   "version": "3.11.0"
  },
  "orig_nbformat": 4
 },
 "nbformat": 4,
 "nbformat_minor": 2
}
