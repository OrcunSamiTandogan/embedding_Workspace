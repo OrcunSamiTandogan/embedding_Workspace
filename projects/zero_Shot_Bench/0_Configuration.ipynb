{
 "cells": [
  {
   "cell_type": "markdown",
   "metadata": {},
   "source": [
    "#### `Basic Configurations` "
   ]
  },
  {
   "cell_type": "code",
   "execution_count": null,
   "metadata": {},
   "outputs": [],
   "source": [
    "import openai                                                                         # Get OpenAI Module   \n",
    "openAI_Model = \"gpt-3.5-turbo\"                                                        # Select Open AI Model\n",
    "%run \"C:\\Users\\Asus\\Desktop\\Coding\\API_Flask\\side_BenckMark\\safeZone\\safeZone.ipynb\"  # Get The API Key \n",
    "openai.api_key = OPENAI_API_KEY                                                       # Implement API Key to current OpenAI Session \n",
    "from openai.embeddings_utils import get_embeddings                                    # Get the Embedding Module \n",
    "embedding_Model = 'text-embedding-ada-002'                                            # Get the Embedding Model \n",
    "\n",
    "import pandas as pd                                                                   # Get Data Analysis Tools \n",
    "import numpy as np                                                                    # Get Data Analysis Tools "
   ]
  }
 ],
 "metadata": {
  "language_info": {
   "name": "python"
  },
  "orig_nbformat": 4
 },
 "nbformat": 4,
 "nbformat_minor": 2
}
