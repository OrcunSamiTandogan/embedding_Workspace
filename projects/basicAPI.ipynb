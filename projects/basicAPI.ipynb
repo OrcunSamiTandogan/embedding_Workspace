{
 "cells": [
  {
   "cell_type": "markdown",
   "metadata": {},
   "source": [
    "#### `Basic Configurations` "
   ]
  },
  {
   "cell_type": "code",
   "execution_count": null,
   "metadata": {},
   "outputs": [],
   "source": [
    "import openai                                                                         # Get OpenAI Module   \n",
    "openAI_Model = \"gpt-3.5-turbo\"                                                        # Select Open AI Model\n",
    "%run \"C:\\Users\\Asus\\Desktop\\Coding\\API_Flask\\side_BenckMark\\safeZone\\safeZone.ipynb\"  # Get The API Key \n",
    "openai.api_key = OPENAI_API_KEY                                                       # Implement API Key to current OpenAI Session \n",
    "from openai.embeddings_utils import get_embeddings                                    # Get the Embedding Module \n",
    "embedding_Model = 'text-embedding-ada-002'                                            # Get the Embedding Model \n",
    "\n",
    "import pandas as pd                                                                   # Get Data Analysis Tools \n",
    "import numpy as np                                                                    # Get Data Analysis Tools "
   ]
  },
  {
   "cell_type": "markdown",
   "metadata": {},
   "source": [
    "#### `Process` "
   ]
  },
  {
   "cell_type": "code",
   "execution_count": null,
   "metadata": {},
   "outputs": [],
   "source": [
    "response = openai.ChatCompletion.create(\n",
    "    model = openAI_Model,\n",
    "    messages = [\n",
    "        {\"role\": \"system\", \"content\": \"You are a helpful assistant.\"},\n",
    "        {\"role\": \"user\", \"content\": \"Who won the world series in 2020?\"},\n",
    "        {\"role\": \"assistant\", \"content\": \"The Los Angeles Dodgers won the World Series in 2020.\"},\n",
    "        {\"role\": \"user\", \"content\": \"Where was it played?\"}\n",
    "    ]\n",
    ") "
   ]
  },
  {
   "cell_type": "code",
   "execution_count": null,
   "metadata": {},
   "outputs": [],
   "source": [
    "current_Role    = response.choices[0].message.role\n",
    "current_Content = response.choices[0].message.content  # response['choices'][0]['message']['content']\n",
    "current_Index   = response.choices[0].index  # response['choices'][0]['index'] \n",
    "current_Tokens    = response.usage.total_tokens "
   ]
  },
  {
   "cell_type": "code",
   "execution_count": null,
   "metadata": {},
   "outputs": [],
   "source": [
    "print(\"Role:\", current_Role,'\\n','Tokens:', current_Tokens,\"\\nIndex:\", current_Index, \"\\nContent\", current_Content) "
   ]
  }
 ],
 "metadata": {
  "language_info": {
   "name": "python"
  },
  "orig_nbformat": 4
 },
 "nbformat": 4,
 "nbformat_minor": 2
}
