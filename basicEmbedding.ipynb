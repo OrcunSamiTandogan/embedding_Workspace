{
 "cells": [
  {
   "cell_type": "markdown",
   "metadata": {},
   "source": [
    "#### `Basic Configurations` "
   ]
  },
  {
   "cell_type": "code",
   "execution_count": null,
   "metadata": {},
   "outputs": [],
   "source": [
    "import openai                                                           # Get OpenAI Module   \n",
    "openAI_Model = \"gpt-3.5-turbo\"                                          # Select Open AI Model\n",
    "%run \"C:\\Users\\Asus\\Desktop\\Coding\\API_Flask\\safeZone\\safeZone.ipynb\"   # Get The API Key \n",
    "openai.api_key = OPENAI_API_KEY                                         # Implement API Key to current OpenAI Session \n",
    "from openai.embeddings_utils import get_embeddings                      # Get the Embedding Module \n",
    "embedding_Model = 'text-embedding-ada-002'                              # Get the Embedding Model \n",
    "import pandas as pd                                                     # Get Data Analysis Tools \n",
    "import numpy as np "
   ]
  },
  {
   "cell_type": "markdown",
   "metadata": {},
   "source": [
    "#### `Process` "
   ]
  },
  {
   "cell_type": "code",
   "execution_count": null,
   "metadata": {},
   "outputs": [],
   "source": [
    "current_Text = \"Your text string goes here\" "
   ]
  },
  {
   "cell_type": "code",
   "execution_count": null,
   "metadata": {},
   "outputs": [],
   "source": [
    "response_Embedding = openai.Embedding.create(\n",
    "    input = current_Text,\n",
    "    model = embedding_Model\n",
    ") \n",
    "embeddings = response_Embedding['data'][0]['embedding'] "
   ]
  },
  {
   "cell_type": "code",
   "execution_count": null,
   "metadata": {},
   "outputs": [],
   "source": [
    "embeddings.shape "
   ]
  },
  {
   "cell_type": "code",
   "execution_count": null,
   "metadata": {},
   "outputs": [],
   "source": [
    "embeddings "
   ]
  }
 ],
 "metadata": {
  "language_info": {
   "name": "python"
  },
  "orig_nbformat": 4
 },
 "nbformat": 4,
 "nbformat_minor": 2
}
