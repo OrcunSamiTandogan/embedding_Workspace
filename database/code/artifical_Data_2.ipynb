{
 "cells": [
  {
   "cell_type": "markdown",
   "metadata": {},
   "source": [
    "Outline"
   ]
  },
  {
   "cell_type": "markdown",
   "metadata": {},
   "source": [
    "#### `Basic Configurations` "
   ]
  },
  {
   "cell_type": "code",
   "execution_count": 1,
   "metadata": {},
   "outputs": [],
   "source": [
    "import openai                                                           # Get OpenAI Module   \n",
    "openAI_Model = \"gpt-3.5-turbo\"                                          # Select Open AI Model\n",
    "%run \"C:\\Users\\Asus\\Desktop\\Coding\\API_Flask\\side_BenckMark\\safeZone\\safeZone.ipynb\"   # Get The API Key \n",
    "openai.api_key = OPENAI_API_KEY                                         # Implement API Key to current OpenAI Session \n",
    "from openai.embeddings_utils import get_embedding,get_embeddings        # Get the Embedding Module \n",
    "embedding_Model = 'text-embedding-ada-002'                              # Get the Embedding Model \n",
    "import pandas as pd                                                     # Get Data Analysis Tools \n",
    "import numpy as np "
   ]
  },
  {
   "cell_type": "markdown",
   "metadata": {},
   "source": [
    "---\n",
    "#### `Artifical Data`\n",
    "* Data: There are 5 scores and 5 different types of reviews for a headphone. \n",
    "* There are 6 family in the data. "
   ]
  },
  {
   "cell_type": "code",
   "execution_count": 2,
   "metadata": {},
   "outputs": [],
   "source": [
    "family_1 = [\n",
    "\"The headphones stopped working after just a week of light use.\",\n",
    "\"Sound quality is terrible, and there's a constant buzzing in the left ear.\",\n",
    "\"The ear cushions are uncomfortable and caused pain after only 30 minutes.\",\n",
    "\"The build quality is cheap, and the plastic parts broke easily.\",\n",
    "\"Connectivity issues are frequent, making them almost unusable with my devices\"\n",
    "]\n",
    "family_2 = [\n",
    "\"The sound is okay, but there's noticeable distortion at higher volumes.\",\n",
    "\"They work, but the battery life is nowhere near what was advertised.\",\n",
    "\"The design looks good, but they feel tight and uncomfortable on my head.\",\n",
    "\"I expected better noise cancellation at this price point.\",\n",
    "\"They frequently disconnect from Bluetooth, which is quite frustrating.\"\n",
    "] \n",
    "family_3 = [ \n",
    "\"The headphones are decent for the price but lack in bass quality.\",\n",
    "\"They're comfortable for short periods, but not ideal for extended listening sessions.\",\n",
    "\"Sound is clear, but the noise cancellation feature is just average.\",\n",
    "\"Battery life is good, but I've used other headphones that last longer.\",\n",
    "\"They're alright for everyday use, but I wouldn't recommend them for audiophiles.\"\n",
    "] \n",
    "family_4 = [ \n",
    "\"The sound quality is impressive, especially in the mids and highs.\",\n",
    "\"They fit comfortably, though they can get a bit warm after a few hours.\",\n",
    "\"The battery life is commendable, lasting almost the entire day on a single charge.\",\n",
    "\"The build is sturdy and feels premium, with only minor design flaws.\",\n",
    "\"Connectivity is smooth, with only occasional hiccups in Bluetooth pairing.\",\n",
    "]\n",
    "\n",
    "family_5 = [ \n",
    "\"The audio experience is phenomenal, with crisp highs and deep bass.\",\n",
    "\"By far the most comfortable headphones I've ever worn for long durations.\",\n",
    "\"Battery life exceeds expectations, and the fast charging feature is a lifesaver.\",\n",
    "\"The noise cancellation is top-notch, making them perfect for travel and busy environments.\",\n",
    "\"Every detail, from design to performance, feels premium and worth every penny.\"\n",
    "] \n",
    "\n",
    "family_12345 = family_1 + family_2 + family_3 + family_4 + family_5 \n"
   ]
  },
  {
   "cell_type": "code",
   "execution_count": 3,
   "metadata": {},
   "outputs": [
    {
     "data": {
      "text/html": [
       "<div>\n",
       "<style scoped>\n",
       "    .dataframe tbody tr th:only-of-type {\n",
       "        vertical-align: middle;\n",
       "    }\n",
       "\n",
       "    .dataframe tbody tr th {\n",
       "        vertical-align: top;\n",
       "    }\n",
       "\n",
       "    .dataframe thead th {\n",
       "        text-align: right;\n",
       "    }\n",
       "</style>\n",
       "<table border=\"1\" class=\"dataframe\">\n",
       "  <thead>\n",
       "    <tr style=\"text-align: right;\">\n",
       "      <th></th>\n",
       "      <th>Review</th>\n",
       "      <th>Score</th>\n",
       "      <th>Sentiment</th>\n",
       "    </tr>\n",
       "  </thead>\n",
       "  <tbody>\n",
       "    <tr>\n",
       "      <th>0</th>\n",
       "      <td>The build quality is cheap, and the plastic pa...</td>\n",
       "      <td>1</td>\n",
       "      <td>A</td>\n",
       "    </tr>\n",
       "    <tr>\n",
       "      <th>1</th>\n",
       "      <td>They work, but the battery life is nowhere nea...</td>\n",
       "      <td>2</td>\n",
       "      <td>B</td>\n",
       "    </tr>\n",
       "    <tr>\n",
       "      <th>2</th>\n",
       "      <td>They're alright for everyday use, but I wouldn...</td>\n",
       "      <td>3</td>\n",
       "      <td>C</td>\n",
       "    </tr>\n",
       "  </tbody>\n",
       "</table>\n",
       "</div>"
      ],
      "text/plain": [
       "                                              Review  Score Sentiment\n",
       "0  The build quality is cheap, and the plastic pa...      1         A\n",
       "1  They work, but the battery life is nowhere nea...      2         B\n",
       "2  They're alright for everyday use, but I wouldn...      3         C"
      ]
     },
     "execution_count": 3,
     "metadata": {},
     "output_type": "execute_result"
    }
   ],
   "source": [
    "review_Column = []\n",
    "score_Column  = [] \n",
    "sentiment_Column = [] \n",
    "n = 100 \n",
    "for i in range(n): \n",
    "    temp_1 = \"\"\n",
    "    temp_2 = \"\" \n",
    "    temp_3 = \"\" \n",
    "    temp_4 = \"\"\n",
    "    temp_5 = \"\"\n",
    "\n",
    "    temp_1 += np.random.choice(family_1) \n",
    "    temp_1 += np.random.choice(family_1) \n",
    "    temp_1 += np.random.choice(family_1) \n",
    "    review_Column.append(temp_1) \n",
    "    score_Column.append(1) # score_Column.append(np.random.randint(1, 10)) \n",
    "    sentiment_Column.append('A') \n",
    "\n",
    "    temp_2 += np.random.choice(family_2)\n",
    "    temp_2 += np.random.choice(family_2)\n",
    "    temp_2 += np.random.choice(family_2)\n",
    "    review_Column.append(temp_2) \n",
    "    score_Column.append(2) # score_Column.append(np.random.randint(10, 20)) \n",
    "    sentiment_Column.append('B') \n",
    "\n",
    "    temp_3 += np.random.choice(family_3)\n",
    "    temp_3 += np.random.choice(family_3)\n",
    "    temp_3 += np.random.choice(family_3) \n",
    "    review_Column.append(temp_3) \n",
    "    score_Column.append(3) # score_Column.append(np.random.randint(10, 30)) \n",
    "    sentiment_Column.append('C') \n",
    "\n",
    "    temp_4 += np.random.choice(family_4)\n",
    "    temp_4 += np.random.choice(family_4)\n",
    "    temp_4 += np.random.choice(family_4)\n",
    "    review_Column.append(temp_4)\n",
    "    score_Column.append(4) # score_Column.append(np.random.randint(30, 40))\n",
    "    sentiment_Column.append('D')\n",
    "\n",
    "    temp_5 += np.random.choice(family_5)\n",
    "    temp_5 += np.random.choice(family_5)\n",
    "    temp_5 += np.random.choice(family_5)\n",
    "    review_Column.append(temp_5)\n",
    "    score_Column.append(5) # score_Column.append(np.random.randint(30, 50))\n",
    "    sentiment_Column.append('E')\n",
    "\n",
    "\n",
    "\n",
    "# Create dataframe from the information\n",
    "sample_1 = pd.DataFrame({'Review': review_Column, 'Score': score_Column, 'Sentiment': sentiment_Column}) \n",
    "sample_1.head(3)"
   ]
  },
  {
   "cell_type": "markdown",
   "metadata": {},
   "source": [
    "#### `Embedding`"
   ]
  },
  {
   "cell_type": "markdown",
   "metadata": {},
   "source": [
    "##### Setup"
   ]
  },
  {
   "cell_type": "code",
   "execution_count": 4,
   "metadata": {},
   "outputs": [],
   "source": [
    "from ast import literal_eval"
   ]
  },
  {
   "cell_type": "markdown",
   "metadata": {},
   "source": [
    "#### `Review Embedding`"
   ]
  },
  {
   "cell_type": "markdown",
   "metadata": {},
   "source": [
    "##### A.1- Getting Embeddings"
   ]
  },
  {
   "cell_type": "code",
   "execution_count": 5,
   "metadata": {},
   "outputs": [],
   "source": [
    "target_Column = sample_1['Review']\n",
    "matrix_Raw = get_embeddings(target_Column, engine = embedding_Model)  \n",
    "sample_1['review_Embedding'] = matrix_Raw "
   ]
  },
  {
   "cell_type": "markdown",
   "metadata": {},
   "source": [
    "#### `Label Embedding`"
   ]
  },
  {
   "cell_type": "code",
   "execution_count": 6,
   "metadata": {},
   "outputs": [],
   "source": [
    "score_mapping = {\n",
    "    1: \"Terrible\",\n",
    "    2: \"Mediocre\",\n",
    "    3: \"Fair\",\n",
    "    4: \"Great\",\n",
    "    5: \"Outstanding\"\n",
    "}\n",
    "# Use the map method to convert the 'Score' column to semantic labels \n",
    "sample_1['semantic_Label'] = sample_1['Score'].map(score_mapping)\n"
   ]
  },
  {
   "cell_type": "code",
   "execution_count": 7,
   "metadata": {},
   "outputs": [
    {
     "name": "stderr",
     "output_type": "stream",
     "text": [
      "C:\\Users\\Asus\\TEMP\\ipykernel_22904\\3031851627.py:1: FutureWarning: unique with argument that is not not a Series, Index, ExtensionArray, or np.ndarray is deprecated and will raise in a future version.\n",
      "  target_Column = pd.unique(sample_1['semantic_Label'].to_list())\n"
     ]
    }
   ],
   "source": [
    "target_Column = pd.unique(sample_1['semantic_Label'].to_list())  "
   ]
  },
  {
   "cell_type": "code",
   "execution_count": 9,
   "metadata": {},
   "outputs": [],
   "source": [
    "label_Embedding = get_embeddings(target_Column, engine = embedding_Model)  \n",
    "\n",
    "# Create a dictionary mapping semantic labels to their embeddings\n",
    "label_to_embedding = dict(zip(target_Column, label_Embedding))\n",
    "\n",
    "# 4. Map these embeddings back to the sample_1 DataFrame\n",
    "sample_1['label_Embedding'] = sample_1['semantic_Label'].map(label_to_embedding)"
   ]
  },
  {
   "cell_type": "code",
   "execution_count": 10,
   "metadata": {},
   "outputs": [
    {
     "name": "stdout",
     "output_type": "stream",
     "text": [
      "Unique Values: 5\n"
     ]
    },
    {
     "name": "stderr",
     "output_type": "stream",
     "text": [
      "C:\\Users\\Asus\\TEMP\\ipykernel_22904\\1116350653.py:5: FutureWarning: unique with argument that is not not a Series, Index, ExtensionArray, or np.ndarray is deprecated and will raise in a future version.\n",
      "  print(\"Unique Values:\",len(pd.unique(temp)))\n"
     ]
    }
   ],
   "source": [
    "temp  = [] \n",
    "for i in sample_1['label_Embedding']:\n",
    "    # convert to str\n",
    "    temp.append(str(i))\n",
    "print(\"Unique Values:\",len(pd.unique(temp)))"
   ]
  },
  {
   "cell_type": "markdown",
   "metadata": {},
   "source": [
    "---\n",
    "#### `Output`\n",
    "* Write Data for later use"
   ]
  },
  {
   "cell_type": "code",
   "execution_count": 11,
   "metadata": {},
   "outputs": [],
   "source": [
    "sample_1.to_csv('C:/Users/Asus/Desktop/Coding/API_Flask/side_BenckMark/embedding_Workspace/database/output/artifical_Data_2.csv', index = False)  "
   ]
  }
 ],
 "metadata": {
  "kernelspec": {
   "display_name": "venv",
   "language": "python",
   "name": "python3"
  },
  "language_info": {
   "codemirror_mode": {
    "name": "ipython",
    "version": 3
   },
   "file_extension": ".py",
   "mimetype": "text/x-python",
   "name": "python",
   "nbconvert_exporter": "python",
   "pygments_lexer": "ipython3",
   "version": "3.11.0"
  },
  "orig_nbformat": 4
 },
 "nbformat": 4,
 "nbformat_minor": 2
}
